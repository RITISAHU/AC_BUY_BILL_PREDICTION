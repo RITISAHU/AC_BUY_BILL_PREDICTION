{
  "nbformat": 4,
  "nbformat_minor": 0,
  "metadata": {
    "colab": {
      "provenance": []
    },
    "kernelspec": {
      "name": "python3",
      "display_name": "Python 3"
    },
    "language_info": {
      "name": "python"
    }
  },
  "cells": [
    {
      "cell_type": "markdown",
      "source": [
        "**######AC BUY BILL IMAGE AND DATASET THROUGH PREDICT AND ANALYSIS PRICE, STAR AND RATINGS######**"
      ],
      "metadata": {
        "id": "h6CX25PzdRFT"
      }
    },
    {
      "cell_type": "code",
      "execution_count": 1,
      "metadata": {
        "id": "RhTLNwsFG906"
      },
      "outputs": [],
      "source": [
        "import numpy as np\n",
        "import matplotlib.pyplot as plt\n",
        "import pandas as pd"
      ]
    },
    {
      "cell_type": "code",
      "source": [
        "from google.colab import drive\n",
        "drive.mount('/content/drive')"
      ],
      "metadata": {
        "colab": {
          "base_uri": "https://localhost:8080/"
        },
        "id": "ABxiUPQsHUML",
        "outputId": "6b811049-b190-4248-a38f-0470f3189036"
      },
      "execution_count": 2,
      "outputs": [
        {
          "output_type": "stream",
          "name": "stdout",
          "text": [
            "Mounted at /content/drive\n"
          ]
        }
      ]
    },
    {
      "cell_type": "code",
      "source": [
        "from google.colab import files\n",
        "uploaded = files.upload()"
      ],
      "metadata": {
        "colab": {
          "base_uri": "https://localhost:8080/",
          "height": 73
        },
        "id": "_ajfXBC5Hb1K",
        "outputId": "4f95d63e-c914-4e58-f69e-2c9424022047"
      },
      "execution_count": 3,
      "outputs": [
        {
          "output_type": "display_data",
          "data": {
            "text/plain": [
              "<IPython.core.display.HTML object>"
            ],
            "text/html": [
              "\n",
              "     <input type=\"file\" id=\"files-7945d5fb-1fce-4166-94a1-cb1e6cc78b9d\" name=\"files[]\" multiple disabled\n",
              "        style=\"border:none\" />\n",
              "     <output id=\"result-7945d5fb-1fce-4166-94a1-cb1e6cc78b9d\">\n",
              "      Upload widget is only available when the cell has been executed in the\n",
              "      current browser session. Please rerun this cell to enable.\n",
              "      </output>\n",
              "      <script>// Copyright 2017 Google LLC\n",
              "//\n",
              "// Licensed under the Apache License, Version 2.0 (the \"License\");\n",
              "// you may not use this file except in compliance with the License.\n",
              "// You may obtain a copy of the License at\n",
              "//\n",
              "//      http://www.apache.org/licenses/LICENSE-2.0\n",
              "//\n",
              "// Unless required by applicable law or agreed to in writing, software\n",
              "// distributed under the License is distributed on an \"AS IS\" BASIS,\n",
              "// WITHOUT WARRANTIES OR CONDITIONS OF ANY KIND, either express or implied.\n",
              "// See the License for the specific language governing permissions and\n",
              "// limitations under the License.\n",
              "\n",
              "/**\n",
              " * @fileoverview Helpers for google.colab Python module.\n",
              " */\n",
              "(function(scope) {\n",
              "function span(text, styleAttributes = {}) {\n",
              "  const element = document.createElement('span');\n",
              "  element.textContent = text;\n",
              "  for (const key of Object.keys(styleAttributes)) {\n",
              "    element.style[key] = styleAttributes[key];\n",
              "  }\n",
              "  return element;\n",
              "}\n",
              "\n",
              "// Max number of bytes which will be uploaded at a time.\n",
              "const MAX_PAYLOAD_SIZE = 100 * 1024;\n",
              "\n",
              "function _uploadFiles(inputId, outputId) {\n",
              "  const steps = uploadFilesStep(inputId, outputId);\n",
              "  const outputElement = document.getElementById(outputId);\n",
              "  // Cache steps on the outputElement to make it available for the next call\n",
              "  // to uploadFilesContinue from Python.\n",
              "  outputElement.steps = steps;\n",
              "\n",
              "  return _uploadFilesContinue(outputId);\n",
              "}\n",
              "\n",
              "// This is roughly an async generator (not supported in the browser yet),\n",
              "// where there are multiple asynchronous steps and the Python side is going\n",
              "// to poll for completion of each step.\n",
              "// This uses a Promise to block the python side on completion of each step,\n",
              "// then passes the result of the previous step as the input to the next step.\n",
              "function _uploadFilesContinue(outputId) {\n",
              "  const outputElement = document.getElementById(outputId);\n",
              "  const steps = outputElement.steps;\n",
              "\n",
              "  const next = steps.next(outputElement.lastPromiseValue);\n",
              "  return Promise.resolve(next.value.promise).then((value) => {\n",
              "    // Cache the last promise value to make it available to the next\n",
              "    // step of the generator.\n",
              "    outputElement.lastPromiseValue = value;\n",
              "    return next.value.response;\n",
              "  });\n",
              "}\n",
              "\n",
              "/**\n",
              " * Generator function which is called between each async step of the upload\n",
              " * process.\n",
              " * @param {string} inputId Element ID of the input file picker element.\n",
              " * @param {string} outputId Element ID of the output display.\n",
              " * @return {!Iterable<!Object>} Iterable of next steps.\n",
              " */\n",
              "function* uploadFilesStep(inputId, outputId) {\n",
              "  const inputElement = document.getElementById(inputId);\n",
              "  inputElement.disabled = false;\n",
              "\n",
              "  const outputElement = document.getElementById(outputId);\n",
              "  outputElement.innerHTML = '';\n",
              "\n",
              "  const pickedPromise = new Promise((resolve) => {\n",
              "    inputElement.addEventListener('change', (e) => {\n",
              "      resolve(e.target.files);\n",
              "    });\n",
              "  });\n",
              "\n",
              "  const cancel = document.createElement('button');\n",
              "  inputElement.parentElement.appendChild(cancel);\n",
              "  cancel.textContent = 'Cancel upload';\n",
              "  const cancelPromise = new Promise((resolve) => {\n",
              "    cancel.onclick = () => {\n",
              "      resolve(null);\n",
              "    };\n",
              "  });\n",
              "\n",
              "  // Wait for the user to pick the files.\n",
              "  const files = yield {\n",
              "    promise: Promise.race([pickedPromise, cancelPromise]),\n",
              "    response: {\n",
              "      action: 'starting',\n",
              "    }\n",
              "  };\n",
              "\n",
              "  cancel.remove();\n",
              "\n",
              "  // Disable the input element since further picks are not allowed.\n",
              "  inputElement.disabled = true;\n",
              "\n",
              "  if (!files) {\n",
              "    return {\n",
              "      response: {\n",
              "        action: 'complete',\n",
              "      }\n",
              "    };\n",
              "  }\n",
              "\n",
              "  for (const file of files) {\n",
              "    const li = document.createElement('li');\n",
              "    li.append(span(file.name, {fontWeight: 'bold'}));\n",
              "    li.append(span(\n",
              "        `(${file.type || 'n/a'}) - ${file.size} bytes, ` +\n",
              "        `last modified: ${\n",
              "            file.lastModifiedDate ? file.lastModifiedDate.toLocaleDateString() :\n",
              "                                    'n/a'} - `));\n",
              "    const percent = span('0% done');\n",
              "    li.appendChild(percent);\n",
              "\n",
              "    outputElement.appendChild(li);\n",
              "\n",
              "    const fileDataPromise = new Promise((resolve) => {\n",
              "      const reader = new FileReader();\n",
              "      reader.onload = (e) => {\n",
              "        resolve(e.target.result);\n",
              "      };\n",
              "      reader.readAsArrayBuffer(file);\n",
              "    });\n",
              "    // Wait for the data to be ready.\n",
              "    let fileData = yield {\n",
              "      promise: fileDataPromise,\n",
              "      response: {\n",
              "        action: 'continue',\n",
              "      }\n",
              "    };\n",
              "\n",
              "    // Use a chunked sending to avoid message size limits. See b/62115660.\n",
              "    let position = 0;\n",
              "    do {\n",
              "      const length = Math.min(fileData.byteLength - position, MAX_PAYLOAD_SIZE);\n",
              "      const chunk = new Uint8Array(fileData, position, length);\n",
              "      position += length;\n",
              "\n",
              "      const base64 = btoa(String.fromCharCode.apply(null, chunk));\n",
              "      yield {\n",
              "        response: {\n",
              "          action: 'append',\n",
              "          file: file.name,\n",
              "          data: base64,\n",
              "        },\n",
              "      };\n",
              "\n",
              "      let percentDone = fileData.byteLength === 0 ?\n",
              "          100 :\n",
              "          Math.round((position / fileData.byteLength) * 100);\n",
              "      percent.textContent = `${percentDone}% done`;\n",
              "\n",
              "    } while (position < fileData.byteLength);\n",
              "  }\n",
              "\n",
              "  // All done.\n",
              "  yield {\n",
              "    response: {\n",
              "      action: 'complete',\n",
              "    }\n",
              "  };\n",
              "}\n",
              "\n",
              "scope.google = scope.google || {};\n",
              "scope.google.colab = scope.google.colab || {};\n",
              "scope.google.colab._files = {\n",
              "  _uploadFiles,\n",
              "  _uploadFilesContinue,\n",
              "};\n",
              "})(self);\n",
              "</script> "
            ]
          },
          "metadata": {}
        },
        {
          "output_type": "stream",
          "name": "stdout",
          "text": [
            "Saving Air_condition_dataset.csv to Air_condition_dataset.csv\n"
          ]
        }
      ]
    },
    {
      "cell_type": "code",
      "source": [
        "dataset = pd.read_csv('Air_condition_dataset.csv')"
      ],
      "metadata": {
        "id": "ewvbSyr9HlTs"
      },
      "execution_count": 4,
      "outputs": []
    },
    {
      "cell_type": "code",
      "source": [
        "dataset"
      ],
      "metadata": {
        "colab": {
          "base_uri": "https://localhost:8080/",
          "height": 444
        },
        "id": "puUDYm3mIDIl",
        "outputId": "cb629a2a-ae76-40ec-91a0-39e0bd9a410e"
      },
      "execution_count": 5,
      "outputs": [
        {
          "output_type": "execute_result",
          "data": {
            "text/plain": [
              "    Brand_name  TOn Condenser_Coil Power_Consumption RefrigeranT Noise_level  \\\n",
              "0        Haier    1         Copper             704 W        R-32       26 dB   \n",
              "1       Daikin  1.5          Alloy            1304 W        R-32       42 dB   \n",
              "2        Croma  1.5         Copper            1570 W      R - 32       49 dB   \n",
              "3    Panasonic    1         Copper            1095 W        R-32       45 dB   \n",
              "4         MarQ   By         Copper        712.59 kWh        R-32       40 dB   \n",
              "..         ...  ...            ...               ...         ...         ...   \n",
              "271      Lloyd  1.5         Copper            1440 W        R-32       57 dB   \n",
              "272    Hitachi    2         Copper            2350 W       R410A       37 dB   \n",
              "273    CARRIER  1.5         Copper            1550 W         R32       58 dB   \n",
              "274    LIVPURE    1         Copper            1080 W         R32       45 dB   \n",
              "275    SAMSUNG  1.5         Copper            1490 W         R32       45 dB   \n",
              "\n",
              "     STAR  Ratings   Price                                          Image_url  \n",
              "0     0.0        0  ₹27294  https://rukminim1.flixcart.com/image/312/312/l...  \n",
              "1     4.2        0  ₹38999  https://rukminim1.flixcart.com/image/312/312/l...  \n",
              "2     3.8       75  ₹28490  https://rukminim1.flixcart.com/image/312/312/l...  \n",
              "3     4.3    10156  ₹32999  https://rukminim1.flixcart.com/image/312/312/l...  \n",
              "4     4.0      642  ₹27490  https://rukminim1.flixcart.com/image/312/312/k...  \n",
              "..    ...      ...     ...                                                ...  \n",
              "271   4.1        0  ₹34890  https://rukminim1.flixcart.com/image/312/312/k...  \n",
              "272   4.2     2029  ₹49500  https://rukminim1.flixcart.com/image/312/312/k...  \n",
              "273   4.2      810  ₹32999  https://rukminim1.flixcart.com/image/312/312/k...  \n",
              "274   4.2     2586  ₹38990  https://rukminim1.flixcart.com/image/312/312/k...  \n",
              "275   0.0        0  ₹38559  https://rukminim1.flixcart.com/image/312/312/l...  \n",
              "\n",
              "[276 rows x 10 columns]"
            ],
            "text/html": [
              "\n",
              "  <div id=\"df-999c31ff-bff3-491c-8712-3567e3b594d0\" class=\"colab-df-container\">\n",
              "    <div>\n",
              "<style scoped>\n",
              "    .dataframe tbody tr th:only-of-type {\n",
              "        vertical-align: middle;\n",
              "    }\n",
              "\n",
              "    .dataframe tbody tr th {\n",
              "        vertical-align: top;\n",
              "    }\n",
              "\n",
              "    .dataframe thead th {\n",
              "        text-align: right;\n",
              "    }\n",
              "</style>\n",
              "<table border=\"1\" class=\"dataframe\">\n",
              "  <thead>\n",
              "    <tr style=\"text-align: right;\">\n",
              "      <th></th>\n",
              "      <th>Brand_name</th>\n",
              "      <th>TOn</th>\n",
              "      <th>Condenser_Coil</th>\n",
              "      <th>Power_Consumption</th>\n",
              "      <th>RefrigeranT</th>\n",
              "      <th>Noise_level</th>\n",
              "      <th>STAR</th>\n",
              "      <th>Ratings</th>\n",
              "      <th>Price</th>\n",
              "      <th>Image_url</th>\n",
              "    </tr>\n",
              "  </thead>\n",
              "  <tbody>\n",
              "    <tr>\n",
              "      <th>0</th>\n",
              "      <td>Haier</td>\n",
              "      <td>1</td>\n",
              "      <td>Copper</td>\n",
              "      <td>704 W</td>\n",
              "      <td>R-32</td>\n",
              "      <td>26 dB</td>\n",
              "      <td>0.0</td>\n",
              "      <td>0</td>\n",
              "      <td>₹27294</td>\n",
              "      <td>https://rukminim1.flixcart.com/image/312/312/l...</td>\n",
              "    </tr>\n",
              "    <tr>\n",
              "      <th>1</th>\n",
              "      <td>Daikin</td>\n",
              "      <td>1.5</td>\n",
              "      <td>Alloy</td>\n",
              "      <td>1304 W</td>\n",
              "      <td>R-32</td>\n",
              "      <td>42 dB</td>\n",
              "      <td>4.2</td>\n",
              "      <td>0</td>\n",
              "      <td>₹38999</td>\n",
              "      <td>https://rukminim1.flixcart.com/image/312/312/l...</td>\n",
              "    </tr>\n",
              "    <tr>\n",
              "      <th>2</th>\n",
              "      <td>Croma</td>\n",
              "      <td>1.5</td>\n",
              "      <td>Copper</td>\n",
              "      <td>1570 W</td>\n",
              "      <td>R - 32</td>\n",
              "      <td>49 dB</td>\n",
              "      <td>3.8</td>\n",
              "      <td>75</td>\n",
              "      <td>₹28490</td>\n",
              "      <td>https://rukminim1.flixcart.com/image/312/312/l...</td>\n",
              "    </tr>\n",
              "    <tr>\n",
              "      <th>3</th>\n",
              "      <td>Panasonic</td>\n",
              "      <td>1</td>\n",
              "      <td>Copper</td>\n",
              "      <td>1095 W</td>\n",
              "      <td>R-32</td>\n",
              "      <td>45 dB</td>\n",
              "      <td>4.3</td>\n",
              "      <td>10156</td>\n",
              "      <td>₹32999</td>\n",
              "      <td>https://rukminim1.flixcart.com/image/312/312/l...</td>\n",
              "    </tr>\n",
              "    <tr>\n",
              "      <th>4</th>\n",
              "      <td>MarQ</td>\n",
              "      <td>By</td>\n",
              "      <td>Copper</td>\n",
              "      <td>712.59 kWh</td>\n",
              "      <td>R-32</td>\n",
              "      <td>40 dB</td>\n",
              "      <td>4.0</td>\n",
              "      <td>642</td>\n",
              "      <td>₹27490</td>\n",
              "      <td>https://rukminim1.flixcart.com/image/312/312/k...</td>\n",
              "    </tr>\n",
              "    <tr>\n",
              "      <th>...</th>\n",
              "      <td>...</td>\n",
              "      <td>...</td>\n",
              "      <td>...</td>\n",
              "      <td>...</td>\n",
              "      <td>...</td>\n",
              "      <td>...</td>\n",
              "      <td>...</td>\n",
              "      <td>...</td>\n",
              "      <td>...</td>\n",
              "      <td>...</td>\n",
              "    </tr>\n",
              "    <tr>\n",
              "      <th>271</th>\n",
              "      <td>Lloyd</td>\n",
              "      <td>1.5</td>\n",
              "      <td>Copper</td>\n",
              "      <td>1440 W</td>\n",
              "      <td>R-32</td>\n",
              "      <td>57 dB</td>\n",
              "      <td>4.1</td>\n",
              "      <td>0</td>\n",
              "      <td>₹34890</td>\n",
              "      <td>https://rukminim1.flixcart.com/image/312/312/k...</td>\n",
              "    </tr>\n",
              "    <tr>\n",
              "      <th>272</th>\n",
              "      <td>Hitachi</td>\n",
              "      <td>2</td>\n",
              "      <td>Copper</td>\n",
              "      <td>2350 W</td>\n",
              "      <td>R410A</td>\n",
              "      <td>37 dB</td>\n",
              "      <td>4.2</td>\n",
              "      <td>2029</td>\n",
              "      <td>₹49500</td>\n",
              "      <td>https://rukminim1.flixcart.com/image/312/312/k...</td>\n",
              "    </tr>\n",
              "    <tr>\n",
              "      <th>273</th>\n",
              "      <td>CARRIER</td>\n",
              "      <td>1.5</td>\n",
              "      <td>Copper</td>\n",
              "      <td>1550 W</td>\n",
              "      <td>R32</td>\n",
              "      <td>58 dB</td>\n",
              "      <td>4.2</td>\n",
              "      <td>810</td>\n",
              "      <td>₹32999</td>\n",
              "      <td>https://rukminim1.flixcart.com/image/312/312/k...</td>\n",
              "    </tr>\n",
              "    <tr>\n",
              "      <th>274</th>\n",
              "      <td>LIVPURE</td>\n",
              "      <td>1</td>\n",
              "      <td>Copper</td>\n",
              "      <td>1080 W</td>\n",
              "      <td>R32</td>\n",
              "      <td>45 dB</td>\n",
              "      <td>4.2</td>\n",
              "      <td>2586</td>\n",
              "      <td>₹38990</td>\n",
              "      <td>https://rukminim1.flixcart.com/image/312/312/k...</td>\n",
              "    </tr>\n",
              "    <tr>\n",
              "      <th>275</th>\n",
              "      <td>SAMSUNG</td>\n",
              "      <td>1.5</td>\n",
              "      <td>Copper</td>\n",
              "      <td>1490 W</td>\n",
              "      <td>R32</td>\n",
              "      <td>45 dB</td>\n",
              "      <td>0.0</td>\n",
              "      <td>0</td>\n",
              "      <td>₹38559</td>\n",
              "      <td>https://rukminim1.flixcart.com/image/312/312/l...</td>\n",
              "    </tr>\n",
              "  </tbody>\n",
              "</table>\n",
              "<p>276 rows × 10 columns</p>\n",
              "</div>\n",
              "    <div class=\"colab-df-buttons\">\n",
              "\n",
              "  <div class=\"colab-df-container\">\n",
              "    <button class=\"colab-df-convert\" onclick=\"convertToInteractive('df-999c31ff-bff3-491c-8712-3567e3b594d0')\"\n",
              "            title=\"Convert this dataframe to an interactive table.\"\n",
              "            style=\"display:none;\">\n",
              "\n",
              "  <svg xmlns=\"http://www.w3.org/2000/svg\" height=\"24px\" viewBox=\"0 -960 960 960\">\n",
              "    <path d=\"M120-120v-720h720v720H120Zm60-500h600v-160H180v160Zm220 220h160v-160H400v160Zm0 220h160v-160H400v160ZM180-400h160v-160H180v160Zm440 0h160v-160H620v160ZM180-180h160v-160H180v160Zm440 0h160v-160H620v160Z\"/>\n",
              "  </svg>\n",
              "    </button>\n",
              "\n",
              "  <style>\n",
              "    .colab-df-container {\n",
              "      display:flex;\n",
              "      gap: 12px;\n",
              "    }\n",
              "\n",
              "    .colab-df-convert {\n",
              "      background-color: #E8F0FE;\n",
              "      border: none;\n",
              "      border-radius: 50%;\n",
              "      cursor: pointer;\n",
              "      display: none;\n",
              "      fill: #1967D2;\n",
              "      height: 32px;\n",
              "      padding: 0 0 0 0;\n",
              "      width: 32px;\n",
              "    }\n",
              "\n",
              "    .colab-df-convert:hover {\n",
              "      background-color: #E2EBFA;\n",
              "      box-shadow: 0px 1px 2px rgba(60, 64, 67, 0.3), 0px 1px 3px 1px rgba(60, 64, 67, 0.15);\n",
              "      fill: #174EA6;\n",
              "    }\n",
              "\n",
              "    .colab-df-buttons div {\n",
              "      margin-bottom: 4px;\n",
              "    }\n",
              "\n",
              "    [theme=dark] .colab-df-convert {\n",
              "      background-color: #3B4455;\n",
              "      fill: #D2E3FC;\n",
              "    }\n",
              "\n",
              "    [theme=dark] .colab-df-convert:hover {\n",
              "      background-color: #434B5C;\n",
              "      box-shadow: 0px 1px 3px 1px rgba(0, 0, 0, 0.15);\n",
              "      filter: drop-shadow(0px 1px 2px rgba(0, 0, 0, 0.3));\n",
              "      fill: #FFFFFF;\n",
              "    }\n",
              "  </style>\n",
              "\n",
              "    <script>\n",
              "      const buttonEl =\n",
              "        document.querySelector('#df-999c31ff-bff3-491c-8712-3567e3b594d0 button.colab-df-convert');\n",
              "      buttonEl.style.display =\n",
              "        google.colab.kernel.accessAllowed ? 'block' : 'none';\n",
              "\n",
              "      async function convertToInteractive(key) {\n",
              "        const element = document.querySelector('#df-999c31ff-bff3-491c-8712-3567e3b594d0');\n",
              "        const dataTable =\n",
              "          await google.colab.kernel.invokeFunction('convertToInteractive',\n",
              "                                                    [key], {});\n",
              "        if (!dataTable) return;\n",
              "\n",
              "        const docLinkHtml = 'Like what you see? Visit the ' +\n",
              "          '<a target=\"_blank\" href=https://colab.research.google.com/notebooks/data_table.ipynb>data table notebook</a>'\n",
              "          + ' to learn more about interactive tables.';\n",
              "        element.innerHTML = '';\n",
              "        dataTable['output_type'] = 'display_data';\n",
              "        await google.colab.output.renderOutput(dataTable, element);\n",
              "        const docLink = document.createElement('div');\n",
              "        docLink.innerHTML = docLinkHtml;\n",
              "        element.appendChild(docLink);\n",
              "      }\n",
              "    </script>\n",
              "  </div>\n",
              "\n",
              "\n",
              "<div id=\"df-a9c659b9-b2c4-45ea-a7a0-ff7115ef5ec9\">\n",
              "  <button class=\"colab-df-quickchart\" onclick=\"quickchart('df-a9c659b9-b2c4-45ea-a7a0-ff7115ef5ec9')\"\n",
              "            title=\"Suggest charts\"\n",
              "            style=\"display:none;\">\n",
              "\n",
              "<svg xmlns=\"http://www.w3.org/2000/svg\" height=\"24px\"viewBox=\"0 0 24 24\"\n",
              "     width=\"24px\">\n",
              "    <g>\n",
              "        <path d=\"M19 3H5c-1.1 0-2 .9-2 2v14c0 1.1.9 2 2 2h14c1.1 0 2-.9 2-2V5c0-1.1-.9-2-2-2zM9 17H7v-7h2v7zm4 0h-2V7h2v10zm4 0h-2v-4h2v4z\"/>\n",
              "    </g>\n",
              "</svg>\n",
              "  </button>\n",
              "\n",
              "<style>\n",
              "  .colab-df-quickchart {\n",
              "      --bg-color: #E8F0FE;\n",
              "      --fill-color: #1967D2;\n",
              "      --hover-bg-color: #E2EBFA;\n",
              "      --hover-fill-color: #174EA6;\n",
              "      --disabled-fill-color: #AAA;\n",
              "      --disabled-bg-color: #DDD;\n",
              "  }\n",
              "\n",
              "  [theme=dark] .colab-df-quickchart {\n",
              "      --bg-color: #3B4455;\n",
              "      --fill-color: #D2E3FC;\n",
              "      --hover-bg-color: #434B5C;\n",
              "      --hover-fill-color: #FFFFFF;\n",
              "      --disabled-bg-color: #3B4455;\n",
              "      --disabled-fill-color: #666;\n",
              "  }\n",
              "\n",
              "  .colab-df-quickchart {\n",
              "    background-color: var(--bg-color);\n",
              "    border: none;\n",
              "    border-radius: 50%;\n",
              "    cursor: pointer;\n",
              "    display: none;\n",
              "    fill: var(--fill-color);\n",
              "    height: 32px;\n",
              "    padding: 0;\n",
              "    width: 32px;\n",
              "  }\n",
              "\n",
              "  .colab-df-quickchart:hover {\n",
              "    background-color: var(--hover-bg-color);\n",
              "    box-shadow: 0 1px 2px rgba(60, 64, 67, 0.3), 0 1px 3px 1px rgba(60, 64, 67, 0.15);\n",
              "    fill: var(--button-hover-fill-color);\n",
              "  }\n",
              "\n",
              "  .colab-df-quickchart-complete:disabled,\n",
              "  .colab-df-quickchart-complete:disabled:hover {\n",
              "    background-color: var(--disabled-bg-color);\n",
              "    fill: var(--disabled-fill-color);\n",
              "    box-shadow: none;\n",
              "  }\n",
              "\n",
              "  .colab-df-spinner {\n",
              "    border: 2px solid var(--fill-color);\n",
              "    border-color: transparent;\n",
              "    border-bottom-color: var(--fill-color);\n",
              "    animation:\n",
              "      spin 1s steps(1) infinite;\n",
              "  }\n",
              "\n",
              "  @keyframes spin {\n",
              "    0% {\n",
              "      border-color: transparent;\n",
              "      border-bottom-color: var(--fill-color);\n",
              "      border-left-color: var(--fill-color);\n",
              "    }\n",
              "    20% {\n",
              "      border-color: transparent;\n",
              "      border-left-color: var(--fill-color);\n",
              "      border-top-color: var(--fill-color);\n",
              "    }\n",
              "    30% {\n",
              "      border-color: transparent;\n",
              "      border-left-color: var(--fill-color);\n",
              "      border-top-color: var(--fill-color);\n",
              "      border-right-color: var(--fill-color);\n",
              "    }\n",
              "    40% {\n",
              "      border-color: transparent;\n",
              "      border-right-color: var(--fill-color);\n",
              "      border-top-color: var(--fill-color);\n",
              "    }\n",
              "    60% {\n",
              "      border-color: transparent;\n",
              "      border-right-color: var(--fill-color);\n",
              "    }\n",
              "    80% {\n",
              "      border-color: transparent;\n",
              "      border-right-color: var(--fill-color);\n",
              "      border-bottom-color: var(--fill-color);\n",
              "    }\n",
              "    90% {\n",
              "      border-color: transparent;\n",
              "      border-bottom-color: var(--fill-color);\n",
              "    }\n",
              "  }\n",
              "</style>\n",
              "\n",
              "  <script>\n",
              "    async function quickchart(key) {\n",
              "      const quickchartButtonEl =\n",
              "        document.querySelector('#' + key + ' button');\n",
              "      quickchartButtonEl.disabled = true;  // To prevent multiple clicks.\n",
              "      quickchartButtonEl.classList.add('colab-df-spinner');\n",
              "      try {\n",
              "        const charts = await google.colab.kernel.invokeFunction(\n",
              "            'suggestCharts', [key], {});\n",
              "      } catch (error) {\n",
              "        console.error('Error during call to suggestCharts:', error);\n",
              "      }\n",
              "      quickchartButtonEl.classList.remove('colab-df-spinner');\n",
              "      quickchartButtonEl.classList.add('colab-df-quickchart-complete');\n",
              "    }\n",
              "    (() => {\n",
              "      let quickchartButtonEl =\n",
              "        document.querySelector('#df-a9c659b9-b2c4-45ea-a7a0-ff7115ef5ec9 button');\n",
              "      quickchartButtonEl.style.display =\n",
              "        google.colab.kernel.accessAllowed ? 'block' : 'none';\n",
              "    })();\n",
              "  </script>\n",
              "</div>\n",
              "\n",
              "  <div id=\"id_dccec0e8-1069-4fc7-9cbb-24734920f0c4\">\n",
              "    <style>\n",
              "      .colab-df-generate {\n",
              "        background-color: #E8F0FE;\n",
              "        border: none;\n",
              "        border-radius: 50%;\n",
              "        cursor: pointer;\n",
              "        display: none;\n",
              "        fill: #1967D2;\n",
              "        height: 32px;\n",
              "        padding: 0 0 0 0;\n",
              "        width: 32px;\n",
              "      }\n",
              "\n",
              "      .colab-df-generate:hover {\n",
              "        background-color: #E2EBFA;\n",
              "        box-shadow: 0px 1px 2px rgba(60, 64, 67, 0.3), 0px 1px 3px 1px rgba(60, 64, 67, 0.15);\n",
              "        fill: #174EA6;\n",
              "      }\n",
              "\n",
              "      [theme=dark] .colab-df-generate {\n",
              "        background-color: #3B4455;\n",
              "        fill: #D2E3FC;\n",
              "      }\n",
              "\n",
              "      [theme=dark] .colab-df-generate:hover {\n",
              "        background-color: #434B5C;\n",
              "        box-shadow: 0px 1px 3px 1px rgba(0, 0, 0, 0.15);\n",
              "        filter: drop-shadow(0px 1px 2px rgba(0, 0, 0, 0.3));\n",
              "        fill: #FFFFFF;\n",
              "      }\n",
              "    </style>\n",
              "    <button class=\"colab-df-generate\" onclick=\"generateWithVariable('dataset')\"\n",
              "            title=\"Generate code using this dataframe.\"\n",
              "            style=\"display:none;\">\n",
              "\n",
              "  <svg xmlns=\"http://www.w3.org/2000/svg\" height=\"24px\"viewBox=\"0 0 24 24\"\n",
              "       width=\"24px\">\n",
              "    <path d=\"M7,19H8.4L18.45,9,17,7.55,7,17.6ZM5,21V16.75L18.45,3.32a2,2,0,0,1,2.83,0l1.4,1.43a1.91,1.91,0,0,1,.58,1.4,1.91,1.91,0,0,1-.58,1.4L9.25,21ZM18.45,9,17,7.55Zm-12,3A5.31,5.31,0,0,0,4.9,8.1,5.31,5.31,0,0,0,1,6.5,5.31,5.31,0,0,0,4.9,4.9,5.31,5.31,0,0,0,6.5,1,5.31,5.31,0,0,0,8.1,4.9,5.31,5.31,0,0,0,12,6.5,5.46,5.46,0,0,0,6.5,12Z\"/>\n",
              "  </svg>\n",
              "    </button>\n",
              "    <script>\n",
              "      (() => {\n",
              "      const buttonEl =\n",
              "        document.querySelector('#id_dccec0e8-1069-4fc7-9cbb-24734920f0c4 button.colab-df-generate');\n",
              "      buttonEl.style.display =\n",
              "        google.colab.kernel.accessAllowed ? 'block' : 'none';\n",
              "\n",
              "      buttonEl.onclick = () => {\n",
              "        google.colab.notebook.generateWithVariable('dataset');\n",
              "      }\n",
              "      })();\n",
              "    </script>\n",
              "  </div>\n",
              "\n",
              "    </div>\n",
              "  </div>\n"
            ],
            "application/vnd.google.colaboratory.intrinsic+json": {
              "type": "dataframe",
              "variable_name": "dataset",
              "summary": "{\n  \"name\": \"dataset\",\n  \"rows\": 276,\n  \"fields\": [\n    {\n      \"column\": \"Brand_name\",\n      \"properties\": {\n        \"dtype\": \"category\",\n        \"num_unique_values\": 27,\n        \"samples\": [\n          \"LG\",\n          \"Whirlpool\",\n          \"CARRIER\"\n        ],\n        \"semantic_type\": \"\",\n        \"description\": \"\"\n      }\n    },\n    {\n      \"column\": \"TOn\",\n      \"properties\": {\n        \"dtype\": \"category\",\n        \"num_unique_values\": 19,\n        \"samples\": [\n          \"1\",\n          \"-\",\n          \".\"\n        ],\n        \"semantic_type\": \"\",\n        \"description\": \"\"\n      }\n    },\n    {\n      \"column\": \"Condenser_Coil\",\n      \"properties\": {\n        \"dtype\": \"category\",\n        \"num_unique_values\": 3,\n        \"samples\": [\n          \"Copper\",\n          \"Alloy\",\n          \"Aluminium\"\n        ],\n        \"semantic_type\": \"\",\n        \"description\": \"\"\n      }\n    },\n    {\n      \"column\": \"Power_Consumption\",\n      \"properties\": {\n        \"dtype\": \"string\",\n        \"num_unique_values\": 157,\n        \"samples\": [\n          \"1750 W\",\n          \"3450 W\",\n          \"1278 W\"\n        ],\n        \"semantic_type\": \"\",\n        \"description\": \"\"\n      }\n    },\n    {\n      \"column\": \"RefrigeranT\",\n      \"properties\": {\n        \"dtype\": \"category\",\n        \"num_unique_values\": 15,\n        \"samples\": [\n          \"oduct and 4 Years on Compressor\",\n          \" R-32 Refrigerant\",\n          \" R-32\"\n        ],\n        \"semantic_type\": \"\",\n        \"description\": \"\"\n      }\n    },\n    {\n      \"column\": \"Noise_level\",\n      \"properties\": {\n        \"dtype\": \"category\",\n        \"num_unique_values\": 50,\n        \"samples\": [\n          \"35 dB\",\n          \"39.5 dB\",\n          \"53 dB\"\n        ],\n        \"semantic_type\": \"\",\n        \"description\": \"\"\n      }\n    },\n    {\n      \"column\": \"STAR\",\n      \"properties\": {\n        \"dtype\": \"number\",\n        \"std\": 1.5940029243364484,\n        \"min\": 0.0,\n        \"max\": 5.0,\n        \"num_unique_values\": 20,\n        \"samples\": [\n          0.0,\n          3.3,\n          4.9\n        ],\n        \"semantic_type\": \"\",\n        \"description\": \"\"\n      }\n    },\n    {\n      \"column\": \"Ratings\",\n      \"properties\": {\n        \"dtype\": \"number\",\n        \"std\": 5875,\n        \"min\": 0,\n        \"max\": 28442,\n        \"num_unique_values\": 79,\n        \"samples\": [\n          388,\n          0,\n          5199\n        ],\n        \"semantic_type\": \"\",\n        \"description\": \"\"\n      }\n    },\n    {\n      \"column\": \"Price\",\n      \"properties\": {\n        \"dtype\": \"string\",\n        \"num_unique_values\": 149,\n        \"samples\": [\n          \"\\u20b939399\",\n          \"\\u20b936999\",\n          \"\\u20b926297\"\n        ],\n        \"semantic_type\": \"\",\n        \"description\": \"\"\n      }\n    },\n    {\n      \"column\": \"Image_url\",\n      \"properties\": {\n        \"dtype\": \"string\",\n        \"num_unique_values\": 191,\n        \"samples\": [\n          \"https://rukminim1.flixcart.com/image/312/312/l0lbrm80/air-conditioner-new/j/1/s/-original-imagccjyemgycszp.jpeg?q=70\",\n          \"https://rukminim1.flixcart.com/image/312/312/l0y6qa80/air-conditioner-new/9/n/i/-original-imagcmh2h9qsadyy.jpeg?q=70\",\n          \"https://rukminim1.flixcart.com/image/312/312/l13whow0/air-conditioner-new/f/t/y/-original-imagcqpexcjyzuhe.jpeg?q=70\"\n        ],\n        \"semantic_type\": \"\",\n        \"description\": \"\"\n      }\n    }\n  ]\n}"
            }
          },
          "metadata": {},
          "execution_count": 5
        }
      ]
    },
    {
      "cell_type": "code",
      "source": [
        "dataset.shape"
      ],
      "metadata": {
        "colab": {
          "base_uri": "https://localhost:8080/"
        },
        "id": "vM2vFDPjIF-6",
        "outputId": "398e744b-44c8-46d7-8822-7134e1eaf582"
      },
      "execution_count": 6,
      "outputs": [
        {
          "output_type": "execute_result",
          "data": {
            "text/plain": [
              "(276, 10)"
            ]
          },
          "metadata": {},
          "execution_count": 6
        }
      ]
    },
    {
      "cell_type": "code",
      "source": [
        "dataset.size"
      ],
      "metadata": {
        "colab": {
          "base_uri": "https://localhost:8080/"
        },
        "id": "OU16lGE1ILVV",
        "outputId": "479b0d94-a2b4-4e98-9847-0a0edf9b93b9"
      },
      "execution_count": 8,
      "outputs": [
        {
          "output_type": "execute_result",
          "data": {
            "text/plain": [
              "2760"
            ]
          },
          "metadata": {},
          "execution_count": 8
        }
      ]
    },
    {
      "cell_type": "code",
      "source": [
        "dataset.describe()"
      ],
      "metadata": {
        "colab": {
          "base_uri": "https://localhost:8080/",
          "height": 300
        },
        "id": "4IsB8mYgIO1O",
        "outputId": "e153b814-d3ad-429b-9a52-db014cb792d9"
      },
      "execution_count": 9,
      "outputs": [
        {
          "output_type": "execute_result",
          "data": {
            "text/plain": [
              "             STAR       Ratings\n",
              "count  276.000000    276.000000\n",
              "mean     3.457971   3322.108696\n",
              "std      1.594003   5875.781175\n",
              "min      0.000000      0.000000\n",
              "25%      3.800000      0.000000\n",
              "50%      4.200000    224.000000\n",
              "75%      4.300000   3764.250000\n",
              "max      5.000000  28442.000000"
            ],
            "text/html": [
              "\n",
              "  <div id=\"df-a1da9779-f810-4fd9-84a2-f998798e4bba\" class=\"colab-df-container\">\n",
              "    <div>\n",
              "<style scoped>\n",
              "    .dataframe tbody tr th:only-of-type {\n",
              "        vertical-align: middle;\n",
              "    }\n",
              "\n",
              "    .dataframe tbody tr th {\n",
              "        vertical-align: top;\n",
              "    }\n",
              "\n",
              "    .dataframe thead th {\n",
              "        text-align: right;\n",
              "    }\n",
              "</style>\n",
              "<table border=\"1\" class=\"dataframe\">\n",
              "  <thead>\n",
              "    <tr style=\"text-align: right;\">\n",
              "      <th></th>\n",
              "      <th>STAR</th>\n",
              "      <th>Ratings</th>\n",
              "    </tr>\n",
              "  </thead>\n",
              "  <tbody>\n",
              "    <tr>\n",
              "      <th>count</th>\n",
              "      <td>276.000000</td>\n",
              "      <td>276.000000</td>\n",
              "    </tr>\n",
              "    <tr>\n",
              "      <th>mean</th>\n",
              "      <td>3.457971</td>\n",
              "      <td>3322.108696</td>\n",
              "    </tr>\n",
              "    <tr>\n",
              "      <th>std</th>\n",
              "      <td>1.594003</td>\n",
              "      <td>5875.781175</td>\n",
              "    </tr>\n",
              "    <tr>\n",
              "      <th>min</th>\n",
              "      <td>0.000000</td>\n",
              "      <td>0.000000</td>\n",
              "    </tr>\n",
              "    <tr>\n",
              "      <th>25%</th>\n",
              "      <td>3.800000</td>\n",
              "      <td>0.000000</td>\n",
              "    </tr>\n",
              "    <tr>\n",
              "      <th>50%</th>\n",
              "      <td>4.200000</td>\n",
              "      <td>224.000000</td>\n",
              "    </tr>\n",
              "    <tr>\n",
              "      <th>75%</th>\n",
              "      <td>4.300000</td>\n",
              "      <td>3764.250000</td>\n",
              "    </tr>\n",
              "    <tr>\n",
              "      <th>max</th>\n",
              "      <td>5.000000</td>\n",
              "      <td>28442.000000</td>\n",
              "    </tr>\n",
              "  </tbody>\n",
              "</table>\n",
              "</div>\n",
              "    <div class=\"colab-df-buttons\">\n",
              "\n",
              "  <div class=\"colab-df-container\">\n",
              "    <button class=\"colab-df-convert\" onclick=\"convertToInteractive('df-a1da9779-f810-4fd9-84a2-f998798e4bba')\"\n",
              "            title=\"Convert this dataframe to an interactive table.\"\n",
              "            style=\"display:none;\">\n",
              "\n",
              "  <svg xmlns=\"http://www.w3.org/2000/svg\" height=\"24px\" viewBox=\"0 -960 960 960\">\n",
              "    <path d=\"M120-120v-720h720v720H120Zm60-500h600v-160H180v160Zm220 220h160v-160H400v160Zm0 220h160v-160H400v160ZM180-400h160v-160H180v160Zm440 0h160v-160H620v160ZM180-180h160v-160H180v160Zm440 0h160v-160H620v160Z\"/>\n",
              "  </svg>\n",
              "    </button>\n",
              "\n",
              "  <style>\n",
              "    .colab-df-container {\n",
              "      display:flex;\n",
              "      gap: 12px;\n",
              "    }\n",
              "\n",
              "    .colab-df-convert {\n",
              "      background-color: #E8F0FE;\n",
              "      border: none;\n",
              "      border-radius: 50%;\n",
              "      cursor: pointer;\n",
              "      display: none;\n",
              "      fill: #1967D2;\n",
              "      height: 32px;\n",
              "      padding: 0 0 0 0;\n",
              "      width: 32px;\n",
              "    }\n",
              "\n",
              "    .colab-df-convert:hover {\n",
              "      background-color: #E2EBFA;\n",
              "      box-shadow: 0px 1px 2px rgba(60, 64, 67, 0.3), 0px 1px 3px 1px rgba(60, 64, 67, 0.15);\n",
              "      fill: #174EA6;\n",
              "    }\n",
              "\n",
              "    .colab-df-buttons div {\n",
              "      margin-bottom: 4px;\n",
              "    }\n",
              "\n",
              "    [theme=dark] .colab-df-convert {\n",
              "      background-color: #3B4455;\n",
              "      fill: #D2E3FC;\n",
              "    }\n",
              "\n",
              "    [theme=dark] .colab-df-convert:hover {\n",
              "      background-color: #434B5C;\n",
              "      box-shadow: 0px 1px 3px 1px rgba(0, 0, 0, 0.15);\n",
              "      filter: drop-shadow(0px 1px 2px rgba(0, 0, 0, 0.3));\n",
              "      fill: #FFFFFF;\n",
              "    }\n",
              "  </style>\n",
              "\n",
              "    <script>\n",
              "      const buttonEl =\n",
              "        document.querySelector('#df-a1da9779-f810-4fd9-84a2-f998798e4bba button.colab-df-convert');\n",
              "      buttonEl.style.display =\n",
              "        google.colab.kernel.accessAllowed ? 'block' : 'none';\n",
              "\n",
              "      async function convertToInteractive(key) {\n",
              "        const element = document.querySelector('#df-a1da9779-f810-4fd9-84a2-f998798e4bba');\n",
              "        const dataTable =\n",
              "          await google.colab.kernel.invokeFunction('convertToInteractive',\n",
              "                                                    [key], {});\n",
              "        if (!dataTable) return;\n",
              "\n",
              "        const docLinkHtml = 'Like what you see? Visit the ' +\n",
              "          '<a target=\"_blank\" href=https://colab.research.google.com/notebooks/data_table.ipynb>data table notebook</a>'\n",
              "          + ' to learn more about interactive tables.';\n",
              "        element.innerHTML = '';\n",
              "        dataTable['output_type'] = 'display_data';\n",
              "        await google.colab.output.renderOutput(dataTable, element);\n",
              "        const docLink = document.createElement('div');\n",
              "        docLink.innerHTML = docLinkHtml;\n",
              "        element.appendChild(docLink);\n",
              "      }\n",
              "    </script>\n",
              "  </div>\n",
              "\n",
              "\n",
              "<div id=\"df-66906534-91d2-4023-91e7-2fa59d80fa45\">\n",
              "  <button class=\"colab-df-quickchart\" onclick=\"quickchart('df-66906534-91d2-4023-91e7-2fa59d80fa45')\"\n",
              "            title=\"Suggest charts\"\n",
              "            style=\"display:none;\">\n",
              "\n",
              "<svg xmlns=\"http://www.w3.org/2000/svg\" height=\"24px\"viewBox=\"0 0 24 24\"\n",
              "     width=\"24px\">\n",
              "    <g>\n",
              "        <path d=\"M19 3H5c-1.1 0-2 .9-2 2v14c0 1.1.9 2 2 2h14c1.1 0 2-.9 2-2V5c0-1.1-.9-2-2-2zM9 17H7v-7h2v7zm4 0h-2V7h2v10zm4 0h-2v-4h2v4z\"/>\n",
              "    </g>\n",
              "</svg>\n",
              "  </button>\n",
              "\n",
              "<style>\n",
              "  .colab-df-quickchart {\n",
              "      --bg-color: #E8F0FE;\n",
              "      --fill-color: #1967D2;\n",
              "      --hover-bg-color: #E2EBFA;\n",
              "      --hover-fill-color: #174EA6;\n",
              "      --disabled-fill-color: #AAA;\n",
              "      --disabled-bg-color: #DDD;\n",
              "  }\n",
              "\n",
              "  [theme=dark] .colab-df-quickchart {\n",
              "      --bg-color: #3B4455;\n",
              "      --fill-color: #D2E3FC;\n",
              "      --hover-bg-color: #434B5C;\n",
              "      --hover-fill-color: #FFFFFF;\n",
              "      --disabled-bg-color: #3B4455;\n",
              "      --disabled-fill-color: #666;\n",
              "  }\n",
              "\n",
              "  .colab-df-quickchart {\n",
              "    background-color: var(--bg-color);\n",
              "    border: none;\n",
              "    border-radius: 50%;\n",
              "    cursor: pointer;\n",
              "    display: none;\n",
              "    fill: var(--fill-color);\n",
              "    height: 32px;\n",
              "    padding: 0;\n",
              "    width: 32px;\n",
              "  }\n",
              "\n",
              "  .colab-df-quickchart:hover {\n",
              "    background-color: var(--hover-bg-color);\n",
              "    box-shadow: 0 1px 2px rgba(60, 64, 67, 0.3), 0 1px 3px 1px rgba(60, 64, 67, 0.15);\n",
              "    fill: var(--button-hover-fill-color);\n",
              "  }\n",
              "\n",
              "  .colab-df-quickchart-complete:disabled,\n",
              "  .colab-df-quickchart-complete:disabled:hover {\n",
              "    background-color: var(--disabled-bg-color);\n",
              "    fill: var(--disabled-fill-color);\n",
              "    box-shadow: none;\n",
              "  }\n",
              "\n",
              "  .colab-df-spinner {\n",
              "    border: 2px solid var(--fill-color);\n",
              "    border-color: transparent;\n",
              "    border-bottom-color: var(--fill-color);\n",
              "    animation:\n",
              "      spin 1s steps(1) infinite;\n",
              "  }\n",
              "\n",
              "  @keyframes spin {\n",
              "    0% {\n",
              "      border-color: transparent;\n",
              "      border-bottom-color: var(--fill-color);\n",
              "      border-left-color: var(--fill-color);\n",
              "    }\n",
              "    20% {\n",
              "      border-color: transparent;\n",
              "      border-left-color: var(--fill-color);\n",
              "      border-top-color: var(--fill-color);\n",
              "    }\n",
              "    30% {\n",
              "      border-color: transparent;\n",
              "      border-left-color: var(--fill-color);\n",
              "      border-top-color: var(--fill-color);\n",
              "      border-right-color: var(--fill-color);\n",
              "    }\n",
              "    40% {\n",
              "      border-color: transparent;\n",
              "      border-right-color: var(--fill-color);\n",
              "      border-top-color: var(--fill-color);\n",
              "    }\n",
              "    60% {\n",
              "      border-color: transparent;\n",
              "      border-right-color: var(--fill-color);\n",
              "    }\n",
              "    80% {\n",
              "      border-color: transparent;\n",
              "      border-right-color: var(--fill-color);\n",
              "      border-bottom-color: var(--fill-color);\n",
              "    }\n",
              "    90% {\n",
              "      border-color: transparent;\n",
              "      border-bottom-color: var(--fill-color);\n",
              "    }\n",
              "  }\n",
              "</style>\n",
              "\n",
              "  <script>\n",
              "    async function quickchart(key) {\n",
              "      const quickchartButtonEl =\n",
              "        document.querySelector('#' + key + ' button');\n",
              "      quickchartButtonEl.disabled = true;  // To prevent multiple clicks.\n",
              "      quickchartButtonEl.classList.add('colab-df-spinner');\n",
              "      try {\n",
              "        const charts = await google.colab.kernel.invokeFunction(\n",
              "            'suggestCharts', [key], {});\n",
              "      } catch (error) {\n",
              "        console.error('Error during call to suggestCharts:', error);\n",
              "      }\n",
              "      quickchartButtonEl.classList.remove('colab-df-spinner');\n",
              "      quickchartButtonEl.classList.add('colab-df-quickchart-complete');\n",
              "    }\n",
              "    (() => {\n",
              "      let quickchartButtonEl =\n",
              "        document.querySelector('#df-66906534-91d2-4023-91e7-2fa59d80fa45 button');\n",
              "      quickchartButtonEl.style.display =\n",
              "        google.colab.kernel.accessAllowed ? 'block' : 'none';\n",
              "    })();\n",
              "  </script>\n",
              "</div>\n",
              "\n",
              "    </div>\n",
              "  </div>\n"
            ],
            "application/vnd.google.colaboratory.intrinsic+json": {
              "type": "dataframe",
              "summary": "{\n  \"name\": \"dataset\",\n  \"rows\": 8,\n  \"fields\": [\n    {\n      \"column\": \"STAR\",\n      \"properties\": {\n        \"dtype\": \"number\",\n        \"std\": 96.46563478751709,\n        \"min\": 0.0,\n        \"max\": 276.0,\n        \"num_unique_values\": 8,\n        \"samples\": [\n          3.4579710144927533,\n          4.2,\n          276.0\n        ],\n        \"semantic_type\": \"\",\n        \"description\": \"\"\n      }\n    },\n    {\n      \"column\": \"Ratings\",\n      \"properties\": {\n        \"dtype\": \"number\",\n        \"std\": 9631.124302989136,\n        \"min\": 0.0,\n        \"max\": 28442.0,\n        \"num_unique_values\": 7,\n        \"samples\": [\n          276.0,\n          3322.108695652174,\n          3764.25\n        ],\n        \"semantic_type\": \"\",\n        \"description\": \"\"\n      }\n    }\n  ]\n}"
            }
          },
          "metadata": {},
          "execution_count": 9
        }
      ]
    },
    {
      "cell_type": "code",
      "source": [
        "dataset.Brand_name.unique()"
      ],
      "metadata": {
        "colab": {
          "base_uri": "https://localhost:8080/"
        },
        "id": "uSXUBsZNTrbi",
        "outputId": "b1839879-8d25-400d-c06e-b671ca0514f1"
      },
      "execution_count": 39,
      "outputs": [
        {
          "output_type": "execute_result",
          "data": {
            "text/plain": [
              "array(['Haier', 'Daikin', 'Croma', 'Panasonic', 'MarQ', 'Blue', 'Voltas',\n",
              "       'SAMSUNG', 'LG', 'CARRIER',\n",
              "       ' 4-in-1 Convertible 1 Ton 4 Star Split Inverter ', 'MOTOROLA',\n",
              "       'Lloyd', 'Whirlpool', 'Hitachi', 'Thomson', 'Midea', 'ONIDA',\n",
              "       'IFB', 'Nokia', 'Micromax', 'Godrej', 'LumX', 'iFFALCON',\n",
              "       'LIVPURE', 'Hisense', 'O'], dtype=object)"
            ]
          },
          "metadata": {},
          "execution_count": 39
        }
      ]
    },
    {
      "cell_type": "code",
      "source": [
        "dataset.Price.unique()"
      ],
      "metadata": {
        "colab": {
          "base_uri": "https://localhost:8080/"
        },
        "id": "t_35uGUQT00q",
        "outputId": "5ebd515b-d4f3-4163-b988-8b4ccfad2007"
      },
      "execution_count": 40,
      "outputs": [
        {
          "output_type": "execute_result",
          "data": {
            "text/plain": [
              "array(['₹27294', '₹38999', '₹28490', '₹32999', '₹27490', '₹42990',\n",
              "       '₹35990', '₹32490', '₹28990', '₹30990', '₹36490', '₹36499',\n",
              "       '₹34990', '₹39400', '₹36990', '₹43990', '₹28790', '0', '₹36999',\n",
              "       '₹39990', '₹35499', '₹31990', '₹34999', '₹33999', '₹24490',\n",
              "       '₹26590', '₹35190', '₹38590', '₹35490', '₹31805', '₹38000',\n",
              "       '₹43999', '₹30499', '₹40450', '₹32330', '₹31499', '₹33490',\n",
              "       '₹33720', '₹43499', '₹38490', '₹42119', '₹40699', '₹31999',\n",
              "       '₹37980', '₹42490', '₹36763', '₹33300', '₹30999', '₹45279',\n",
              "       '₹35550', '₹37999', '₹35999', '₹53897', '₹33990', '₹35590',\n",
              "       '₹34499', '₹34000', '₹54990', '₹48999', '₹37499', '₹44830',\n",
              "       '₹47499', '₹32500', '₹42900', '₹27950', '₹37890', '₹38828',\n",
              "       '₹45990', '₹35500', '₹37490', '₹27700', '₹36249', '₹37500',\n",
              "       '₹39399', '₹47690', '₹39000', '₹43500', '₹37990', '₹38890',\n",
              "       '₹33499', '₹40160', '₹25999', '₹47000', '₹50990', '₹29898',\n",
              "       '₹37900', '₹38729', '₹35890', '₹43505', '₹39914', '₹44316',\n",
              "       '₹38409', '₹33610', '₹48990', '₹35600', '₹26490', '₹42825',\n",
              "       '₹25990', '₹39543', '₹42899', '₹43000', '₹33605', '₹39100',\n",
              "       '₹43470', '₹37800', '₹36865', '₹47879', '₹39490', '₹41990',\n",
              "       '₹59900', '₹46199', '₹30699', '₹26999', '₹29990', '₹46990',\n",
              "       '₹32990', '₹28999', '₹26297', '₹29499', '₹26499', '₹51990',\n",
              "       '₹39999', '₹44999', '₹33500', '₹41928', '₹39290', '₹39320',\n",
              "       '₹41999', '₹32000', '₹41975', '₹37677', '₹34490', '₹49990',\n",
              "       '₹40599', '₹37949', '₹51900', '₹51274', '₹60990', '₹42000',\n",
              "       '₹44990', '₹72940', '₹25499', '₹36000', '₹27999', '₹40500',\n",
              "       '₹34890', '₹49500', '₹38990', '₹38559'], dtype=object)"
            ]
          },
          "metadata": {},
          "execution_count": 40
        }
      ]
    },
    {
      "cell_type": "code",
      "source": [
        "dataset.STAR.unique()"
      ],
      "metadata": {
        "colab": {
          "base_uri": "https://localhost:8080/"
        },
        "id": "xhxLyNu3T82V",
        "outputId": "054859c3-82a2-4d1c-9e32-3525e9feb4a0"
      },
      "execution_count": 42,
      "outputs": [
        {
          "output_type": "execute_result",
          "data": {
            "text/plain": [
              "array([0. , 4.2, 3.8, 4.3, 4. , 4.1, 4.4, 2.2, 3.9, 5. , 4.8, 4.5, 3.7,\n",
              "       4.6, 3.6, 4.9, 2.3, 3.3, 3. , 4.7])"
            ]
          },
          "metadata": {},
          "execution_count": 42
        }
      ]
    },
    {
      "cell_type": "code",
      "source": [
        "dataset.info()"
      ],
      "metadata": {
        "colab": {
          "base_uri": "https://localhost:8080/"
        },
        "id": "a997vUmVIf-B",
        "outputId": "f4149165-a03e-4020-ea94-eed287cc3922"
      },
      "execution_count": 11,
      "outputs": [
        {
          "output_type": "stream",
          "name": "stdout",
          "text": [
            "<class 'pandas.core.frame.DataFrame'>\n",
            "RangeIndex: 276 entries, 0 to 275\n",
            "Data columns (total 10 columns):\n",
            " #   Column             Non-Null Count  Dtype  \n",
            "---  ------             --------------  -----  \n",
            " 0   Brand_name         276 non-null    object \n",
            " 1   TOn                276 non-null    object \n",
            " 2   Condenser_Coil     276 non-null    object \n",
            " 3   Power_Consumption  274 non-null    object \n",
            " 4   RefrigeranT        276 non-null    object \n",
            " 5   Noise_level        276 non-null    object \n",
            " 6   STAR               276 non-null    float64\n",
            " 7   Ratings            276 non-null    int64  \n",
            " 8   Price              276 non-null    object \n",
            " 9   Image_url          276 non-null    object \n",
            "dtypes: float64(1), int64(1), object(8)\n",
            "memory usage: 21.7+ KB\n"
          ]
        }
      ]
    },
    {
      "cell_type": "code",
      "source": [
        "types = dataset.dtypes\n",
        "print(types)"
      ],
      "metadata": {
        "colab": {
          "base_uri": "https://localhost:8080/"
        },
        "id": "Ta_I_C6MIlN3",
        "outputId": "55a2bce9-3b65-4652-9caa-80846c7058a5"
      },
      "execution_count": 12,
      "outputs": [
        {
          "output_type": "stream",
          "name": "stdout",
          "text": [
            "Brand_name            object\n",
            "TOn                   object\n",
            "Condenser_Coil        object\n",
            "Power_Consumption     object\n",
            "RefrigeranT           object\n",
            "Noise_level           object\n",
            "STAR                 float64\n",
            "Ratings                int64\n",
            "Price                 object\n",
            "Image_url             object\n",
            "dtype: object\n"
          ]
        }
      ]
    },
    {
      "cell_type": "code",
      "source": [
        "from matplotlib import pyplot\n",
        "dataset.hist()\n",
        "pyplot.show()"
      ],
      "metadata": {
        "colab": {
          "base_uri": "https://localhost:8080/",
          "height": 452
        },
        "id": "nj6a7GOgI26Y",
        "outputId": "bb70b77a-3dd2-4dad-de27-e7f6f9ab337b"
      },
      "execution_count": 13,
      "outputs": [
        {
          "output_type": "display_data",
          "data": {
            "text/plain": [
              "<Figure size 640x480 with 2 Axes>"
            ],
            "image/png": "[encoded data removed]"
          },
          "metadata": {}
        }
      ]
    },
    {
      "cell_type": "code",
      "source": [
        "dataset.plot(kind='density' ,subplots=True, layout=(3,3), sharex=False)\n",
        "pyplot.show()"
      ],
      "metadata": {
        "colab": {
          "base_uri": "https://localhost:8080/",
          "height": 169
        },
        "id": "_IZZZhm2Jz1Q",
        "outputId": "909499e8-40d1-4dea-a50b-72a545ccf282"
      },
      "execution_count": 14,
      "outputs": [
        {
          "output_type": "display_data",
          "data": {
            "text/plain": [
              "<Figure size 640x480 with 9 Axes>"
            ],
            "image/png": "[encoded data removed]"
          },
          "metadata": {}
        }
      ]
    },
    {
      "cell_type": "code",
      "source": [
        "dataset.isnull().sum()"
      ],
      "metadata": {
        "colab": {
          "base_uri": "https://localhost:8080/"
        },
        "id": "0DBGNTNDKAov",
        "outputId": "10262afb-eea0-4cd3-84f1-6a3bbb5b1425"
      },
      "execution_count": 15,
      "outputs": [
        {
          "output_type": "execute_result",
          "data": {
            "text/plain": [
              "Brand_name           0\n",
              "TOn                  0\n",
              "Condenser_Coil       0\n",
              "Power_Consumption    2\n",
              "RefrigeranT          0\n",
              "Noise_level          0\n",
              "STAR                 0\n",
              "Ratings              0\n",
              "Price                0\n",
              "Image_url            0\n",
              "dtype: int64"
            ]
          },
          "metadata": {},
          "execution_count": 15
        }
      ]
    },
    {
      "cell_type": "code",
      "source": [
        "price_str = '₹27294'\n",
        "\n",
        "# Remove the currency symbol and any commas if present\n",
        "price_str_cleaned = price_str.replace('₹', '').replace(',', '')\n",
        "\n",
        "# Convert the cleaned string to a float\n",
        "try:\n",
        "    price_float = float(price_str_cleaned)\n",
        "    print(price_float)\n",
        "except ValueError:\n",
        "    print(\"The string could not be converted to a float.\")\n"
      ],
      "metadata": {
        "colab": {
          "base_uri": "https://localhost:8080/"
        },
        "id": "dHxI-FBrLYnb",
        "outputId": "eb4d2e75-e439-42cf-d87e-584828942beb"
      },
      "execution_count": 17,
      "outputs": [
        {
          "output_type": "stream",
          "name": "stdout",
          "text": [
            "27294.0\n"
          ]
        }
      ]
    },
    {
      "cell_type": "code",
      "source": [
        "def clean_and_convert(value):\n",
        "    if isinstance(value, str):\n",
        "        # Remove currency symbol and commas\n",
        "        cleaned_value = value.replace('₹', '').replace(',', '')\n",
        "        try:\n",
        "            # Convert cleaned string to float\n",
        "            return float(cleaned_value)\n",
        "        except ValueError:\n",
        "            print(f\"Could not convert {value} to float.\")\n",
        "            return None\n",
        "    return value\n"
      ],
      "metadata": {
        "id": "QyyOiW5EP6N7"
      },
      "execution_count": 21,
      "outputs": []
    },
    {
      "cell_type": "code",
      "source": [
        "import pandas as pd\n",
        "\n",
        "# Example data\n",
        "data = {\n",
        "    'Price': [],\n",
        "    'OtherColumn': []\n",
        "}\n",
        "\n",
        "# Create a DataFrame\n",
        "df = pd.DataFrame(data)\n",
        "\n",
        "# Function to clean and convert strings to floats\n",
        "def clean_and_convert(value):\n",
        "    if isinstance(value, str):\n",
        "        # Remove currency symbol and commas\n",
        "        cleaned_value = value.replace('₹', '').replace(',', '')\n",
        "        try:\n",
        "            # Convert cleaned string to float\n",
        "            return float(cleaned_value)\n",
        "        except ValueError:\n",
        "            print(f\"Could not convert {value} to float.\")\n",
        "            return None\n",
        "    return value\n",
        "\n",
        "# Apply the function to the 'Price' column\n",
        "df['Price'] = df['Price'].apply(clean_and_convert)\n",
        "\n",
        "# Print the DataFrame to verify the conversion\n",
        "print(df)\n"
      ],
      "metadata": {
        "colab": {
          "base_uri": "https://localhost:8080/"
        },
        "id": "q2D_52kDQXwu",
        "outputId": "78fb747e-aa44-497c-d618-459421d5ed8a"
      },
      "execution_count": 26,
      "outputs": [
        {
          "output_type": "stream",
          "name": "stdout",
          "text": [
            "Empty DataFrame\n",
            "Columns: [Price, OtherColumn]\n",
            "Index: []\n"
          ]
        }
      ]
    },
    {
      "cell_type": "code",
      "source": [
        "#dataset ['Price'] = dataset['Price'].fillna(dataset['Price'].median())\n",
        "dataset ['STAR'] = dataset['STAR'].fillna(dataset['STAR'].median())\n",
        "dataset ['Ratings'] = dataset['Ratings'].fillna(dataset['Ratings'].median())"
      ],
      "metadata": {
        "id": "c9bSC011KHKm"
      },
      "execution_count": 30,
      "outputs": []
    },
    {
      "cell_type": "code",
      "source": [
        "X = dataset.iloc[:, 2:3].values\n",
        "# Extracting dependent variable:\n",
        "y = dataset.iloc[:, 1].values"
      ],
      "metadata": {
        "id": "yu9jp48GKxk0"
      },
      "execution_count": 31,
      "outputs": []
    },
    {
      "cell_type": "code",
      "source": [
        "X"
      ],
      "metadata": {
        "colab": {
          "base_uri": "https://localhost:8080/"
        },
        "id": "IzyKuPnLR8DE",
        "outputId": "051fae78-e890-428f-b47b-e6a610de36c7"
      },
      "execution_count": 32,
      "outputs": [
        {
          "output_type": "execute_result",
          "data": {
            "text/plain": [
              "array([['Copper'],\n",
              "       ['Alloy'],\n",
              "       ['Copper'],\n",
              "       ['Copper'],\n",
              "       ['Copper'],\n",
              "       ['Copper'],\n",
              "       ['Copper'],\n",
              "       ['Copper'],\n",
              "       ['Copper'],\n",
              "       ['Copper'],\n",
              "       ['Copper'],\n",
              "       ['Copper'],\n",
              "       ['Copper'],\n",
              "       ['Copper'],\n",
              "       ['Copper'],\n",
              "       ['Copper'],\n",
              "       ['Copper'],\n",
              "       ['Copper'],\n",
              "       ['Copper'],\n",
              "       ['Copper'],\n",
              "       ['Copper'],\n",
              "       ['Copper'],\n",
              "       ['Copper'],\n",
              "       ['Copper'],\n",
              "       ['Copper'],\n",
              "       ['Copper'],\n",
              "       ['Copper'],\n",
              "       ['Copper'],\n",
              "       ['Copper'],\n",
              "       ['Copper'],\n",
              "       ['Copper'],\n",
              "       ['Copper'],\n",
              "       ['Copper'],\n",
              "       ['Copper'],\n",
              "       ['Copper'],\n",
              "       ['Copper'],\n",
              "       ['Copper'],\n",
              "       ['Copper'],\n",
              "       ['Copper'],\n",
              "       ['Copper'],\n",
              "       ['Copper'],\n",
              "       ['Copper'],\n",
              "       ['Copper'],\n",
              "       ['Copper'],\n",
              "       ['Copper'],\n",
              "       ['Copper'],\n",
              "       ['Copper'],\n",
              "       ['Copper'],\n",
              "       ['Copper'],\n",
              "       ['Copper'],\n",
              "       ['Copper'],\n",
              "       ['Copper'],\n",
              "       ['Copper'],\n",
              "       ['Copper'],\n",
              "       ['Copper'],\n",
              "       ['Copper'],\n",
              "       ['Copper'],\n",
              "       ['Copper'],\n",
              "       ['Copper'],\n",
              "       ['Copper'],\n",
              "       ['Copper'],\n",
              "       ['Copper'],\n",
              "       ['Copper'],\n",
              "       ['Copper'],\n",
              "       ['Copper'],\n",
              "       ['Copper'],\n",
              "       ['Copper'],\n",
              "       ['Copper'],\n",
              "       ['Copper'],\n",
              "       ['Copper'],\n",
              "       ['Copper'],\n",
              "       ['Copper'],\n",
              "       ['Copper'],\n",
              "       ['Copper'],\n",
              "       ['Copper'],\n",
              "       ['Copper'],\n",
              "       ['Copper'],\n",
              "       ['Copper'],\n",
              "       ['Copper'],\n",
              "       ['Copper'],\n",
              "       ['Copper'],\n",
              "       ['Copper'],\n",
              "       ['Copper'],\n",
              "       ['Copper'],\n",
              "       ['Copper'],\n",
              "       ['Copper'],\n",
              "       ['Copper'],\n",
              "       ['Copper'],\n",
              "       ['Copper'],\n",
              "       ['Copper'],\n",
              "       ['Copper'],\n",
              "       ['Copper'],\n",
              "       ['Copper'],\n",
              "       ['Copper'],\n",
              "       ['Copper'],\n",
              "       ['Copper'],\n",
              "       ['Copper'],\n",
              "       ['Copper'],\n",
              "       ['Copper'],\n",
              "       ['Copper'],\n",
              "       ['Copper'],\n",
              "       ['Copper'],\n",
              "       ['Copper'],\n",
              "       ['Copper'],\n",
              "       ['Copper'],\n",
              "       ['Copper'],\n",
              "       ['Copper'],\n",
              "       ['Copper'],\n",
              "       ['Copper'],\n",
              "       ['Copper'],\n",
              "       ['Copper'],\n",
              "       ['Copper'],\n",
              "       ['Copper'],\n",
              "       ['Copper'],\n",
              "       ['Copper'],\n",
              "       ['Alloy'],\n",
              "       ['Copper'],\n",
              "       ['Copper'],\n",
              "       ['Copper'],\n",
              "       ['Copper'],\n",
              "       ['Copper'],\n",
              "       ['Copper'],\n",
              "       ['Copper'],\n",
              "       ['Copper'],\n",
              "       ['Copper'],\n",
              "       ['Copper'],\n",
              "       ['Copper'],\n",
              "       ['Copper'],\n",
              "       ['Copper'],\n",
              "       ['Copper'],\n",
              "       ['Copper'],\n",
              "       ['Copper'],\n",
              "       ['Copper'],\n",
              "       ['Copper'],\n",
              "       ['Copper'],\n",
              "       ['Copper'],\n",
              "       ['Copper'],\n",
              "       ['Copper'],\n",
              "       ['Copper'],\n",
              "       ['Copper'],\n",
              "       ['Copper'],\n",
              "       ['Copper'],\n",
              "       ['Copper'],\n",
              "       ['Copper'],\n",
              "       ['Copper'],\n",
              "       ['Copper'],\n",
              "       ['Copper'],\n",
              "       ['Copper'],\n",
              "       ['Copper'],\n",
              "       ['Copper'],\n",
              "       ['Copper'],\n",
              "       ['Copper'],\n",
              "       ['Copper'],\n",
              "       ['Copper'],\n",
              "       ['Copper'],\n",
              "       ['Copper'],\n",
              "       ['Copper'],\n",
              "       ['Copper'],\n",
              "       ['Copper'],\n",
              "       ['Copper'],\n",
              "       ['Copper'],\n",
              "       ['Copper'],\n",
              "       ['Copper'],\n",
              "       ['Copper'],\n",
              "       ['Copper'],\n",
              "       ['Copper'],\n",
              "       ['Copper'],\n",
              "       ['Copper'],\n",
              "       ['Copper'],\n",
              "       ['Copper'],\n",
              "       ['Copper'],\n",
              "       ['Copper'],\n",
              "       ['Copper'],\n",
              "       ['Copper'],\n",
              "       ['Copper'],\n",
              "       ['Copper'],\n",
              "       ['Copper'],\n",
              "       ['Copper'],\n",
              "       ['Copper'],\n",
              "       ['Copper'],\n",
              "       ['Copper'],\n",
              "       ['Copper'],\n",
              "       ['Copper'],\n",
              "       ['Copper'],\n",
              "       ['Copper'],\n",
              "       ['Copper'],\n",
              "       ['Copper'],\n",
              "       ['Copper'],\n",
              "       ['Copper'],\n",
              "       ['Copper'],\n",
              "       ['Copper'],\n",
              "       ['Copper'],\n",
              "       ['Copper'],\n",
              "       ['Copper'],\n",
              "       ['Copper'],\n",
              "       ['Copper'],\n",
              "       ['Copper'],\n",
              "       ['Copper'],\n",
              "       ['Copper'],\n",
              "       ['Copper'],\n",
              "       ['Copper'],\n",
              "       ['Copper'],\n",
              "       ['Copper'],\n",
              "       ['Copper'],\n",
              "       ['Copper'],\n",
              "       ['Copper'],\n",
              "       ['Copper'],\n",
              "       ['Copper'],\n",
              "       ['Copper'],\n",
              "       ['Copper'],\n",
              "       ['Copper'],\n",
              "       ['Copper'],\n",
              "       ['Copper'],\n",
              "       ['Copper'],\n",
              "       ['Copper'],\n",
              "       ['Copper'],\n",
              "       ['Copper'],\n",
              "       ['Copper'],\n",
              "       ['Copper'],\n",
              "       ['Copper'],\n",
              "       ['Copper'],\n",
              "       ['Copper'],\n",
              "       ['Copper'],\n",
              "       ['Copper'],\n",
              "       ['Copper'],\n",
              "       ['Copper'],\n",
              "       ['Copper'],\n",
              "       ['Copper'],\n",
              "       ['Copper'],\n",
              "       ['Copper'],\n",
              "       ['Copper'],\n",
              "       ['Copper'],\n",
              "       ['Copper'],\n",
              "       ['Copper'],\n",
              "       ['Copper'],\n",
              "       ['Copper'],\n",
              "       ['Copper'],\n",
              "       ['Copper'],\n",
              "       ['Copper'],\n",
              "       ['Copper'],\n",
              "       ['Copper'],\n",
              "       ['Copper'],\n",
              "       ['Copper'],\n",
              "       ['Copper'],\n",
              "       ['Copper'],\n",
              "       ['Copper'],\n",
              "       ['Copper'],\n",
              "       ['Copper'],\n",
              "       ['Copper'],\n",
              "       ['Copper'],\n",
              "       ['Copper'],\n",
              "       ['Copper'],\n",
              "       ['Copper'],\n",
              "       ['Copper'],\n",
              "       ['Copper'],\n",
              "       ['Copper'],\n",
              "       ['Copper'],\n",
              "       ['Copper'],\n",
              "       ['Copper'],\n",
              "       ['Copper'],\n",
              "       ['Copper'],\n",
              "       ['Copper'],\n",
              "       ['Copper'],\n",
              "       ['Copper'],\n",
              "       ['Copper'],\n",
              "       ['Copper'],\n",
              "       ['Copper'],\n",
              "       ['Aluminium'],\n",
              "       ['Copper'],\n",
              "       ['Copper'],\n",
              "       ['Copper'],\n",
              "       ['Copper'],\n",
              "       ['Copper'],\n",
              "       ['Copper'],\n",
              "       ['Copper'],\n",
              "       ['Copper']], dtype=object)"
            ]
          },
          "metadata": {},
          "execution_count": 32
        }
      ]
    },
    {
      "cell_type": "code",
      "source": [
        "y"
      ],
      "metadata": {
        "colab": {
          "base_uri": "https://localhost:8080/"
        },
        "id": "aCnHe2HtR_R5",
        "outputId": "0cbc3dc7-7108-4bf9-a580-d70243a33468"
      },
      "execution_count": 33,
      "outputs": [
        {
          "output_type": "execute_result",
          "data": {
            "text/plain": [
              "array(['1', '1.5', '1.5', '1', 'By', '1.5', '1.5', 'Star', '1.5', '1',\n",
              "       '1', '1.5', '1', 'Flexicool', '1.5', 'Star', '-', '1.5', '1.5',\n",
              "       '1', '1.5', '2', '1.5', '1.5', '1.5', '1.5', '1.5', '1', '1.5',\n",
              "       '1', '0.8', '1.5', 'Super', '1.5', '1.5', '1.5', '1.5', '1.5',\n",
              "       '1.5', '1', '1.5', '1', '1.5', '1.5', 'By', '0.8', '1.5', '1', '1',\n",
              "       '1.5', '1.5', 'Star', '1', '1.6', '1.5', '1.5', '2', '1.5', '1.5',\n",
              "       '1', '1.6', '1.5', '1', '1.5', '1.5', '1.5', '1.5', 'Star', '1',\n",
              "       '1', '1.5', '1.5', '1.5', '1', '1.5', '4', '1.5', '2', 'Star',\n",
              "       'By', '1', '1', '1.5', '1', '1.5', '2', '2', '2', '1.5', '1.5',\n",
              "       '1.5', '2', '1.5', '4', '1.5', '1.5', '1.5', '.', '1.5', 'Star',\n",
              "       '1.5', '1.5', '1.5', 'By', '1.5', '1', '1', '1', '1.5', '1.5',\n",
              "       '1.5', '1.5', '1.5', '1.5', '1.5', '1', '1', '1.5', '1.5', 'Star',\n",
              "       'By', '1', 'Star', '1', '1', '2', '0.8', '1.5', '1.5', '1.5',\n",
              "       '1.5', '1', '1.5', '1.5', '1.5', '1.5', '1.5', '1.5', '1', '1.5',\n",
              "       '1.5', '1.5', '1', '1.5', '1.5', '1.5', '1.5', 'Star', '1.5', '1',\n",
              "       'Star', '1.5', '1.5', '1', '1', '1', '1', '1.5', '0.9', '1.5',\n",
              "       '1.5', '1.5', '1.5', '1.5', '1.5', '1', '1', '1.5', '1.5', '1.5',\n",
              "       '1.5', '1.5', '1.5', '1.5', 'Windfree', '2', '2', '1.5', '1.5',\n",
              "       '1.5', '1.8', '1.5', '1', '1', '1', '1.5', '1.5', '0.8', '1.5',\n",
              "       '4', 'Star', '1.5', '1.5', '1.5', '1.5', '1.5', '1.5', '4', '1.5',\n",
              "       '1', '1.5', '1.5', '1', '1.5', '1', '0.8', '2', '1.5', '1.5',\n",
              "       '1.5', '1.5', 'By', 'Super', '4', '4-in-1', 'Star', '1.5', '1.5',\n",
              "       '1.5', 'Star', '1.5', '1.5', '1', '1.5', '1.5', 'Super', '1.5',\n",
              "       '4', '1.5', '1.5', '4-in-1', '1.5', '1.5', '1', '1', '1.5', '1',\n",
              "       '1.5', '2', '1', '1', '1.5', '1', '1', 'Flexicool', '1.5', '1',\n",
              "       '2', '1.8', '1', 'General', '1.5', '1.5', '7', 'General', 'Star',\n",
              "       '1', '1', '1.5', '1', '1.5', '1.5', '1.5', '1.5', '1.5', '1.5',\n",
              "       '1.5', '1.5', '1.5', 'Convertible', '1', '1.5', '2', '1.5', '1',\n",
              "       '1.5'], dtype=object)"
            ]
          },
          "metadata": {},
          "execution_count": 33
        }
      ]
    },
    {
      "cell_type": "code",
      "source": [
        "from sklearn.model_selection import train_test_split\n",
        "X_train, X_test, y_train, y_test = train_test_split(X, y, test_size = 1/3, random_state = 56)"
      ],
      "metadata": {
        "id": "ADz3vmtPSg_B"
      },
      "execution_count": 35,
      "outputs": []
    },
    {
      "cell_type": "code",
      "source": [
        "X_train"
      ],
      "metadata": {
        "colab": {
          "base_uri": "https://localhost:8080/"
        },
        "id": "olfl3Zl8SBg0",
        "outputId": "f562321d-cc93-42fe-b697-7ab8783ae03f"
      },
      "execution_count": 37,
      "outputs": [
        {
          "output_type": "execute_result",
          "data": {
            "text/plain": [
              "array([['Copper'],\n",
              "       ['Copper'],\n",
              "       ['Copper'],\n",
              "       ['Copper'],\n",
              "       ['Copper'],\n",
              "       ['Copper'],\n",
              "       ['Copper'],\n",
              "       ['Copper'],\n",
              "       ['Copper'],\n",
              "       ['Copper'],\n",
              "       ['Copper'],\n",
              "       ['Copper'],\n",
              "       ['Copper'],\n",
              "       ['Copper'],\n",
              "       ['Copper'],\n",
              "       ['Copper'],\n",
              "       ['Copper'],\n",
              "       ['Copper'],\n",
              "       ['Copper'],\n",
              "       ['Copper'],\n",
              "       ['Copper'],\n",
              "       ['Copper'],\n",
              "       ['Copper'],\n",
              "       ['Copper'],\n",
              "       ['Copper'],\n",
              "       ['Copper'],\n",
              "       ['Copper'],\n",
              "       ['Copper'],\n",
              "       ['Copper'],\n",
              "       ['Copper'],\n",
              "       ['Copper'],\n",
              "       ['Copper'],\n",
              "       ['Copper'],\n",
              "       ['Copper'],\n",
              "       ['Copper'],\n",
              "       ['Copper'],\n",
              "       ['Copper'],\n",
              "       ['Copper'],\n",
              "       ['Copper'],\n",
              "       ['Copper'],\n",
              "       ['Copper'],\n",
              "       ['Copper'],\n",
              "       ['Copper'],\n",
              "       ['Copper'],\n",
              "       ['Copper'],\n",
              "       ['Copper'],\n",
              "       ['Copper'],\n",
              "       ['Copper'],\n",
              "       ['Copper'],\n",
              "       ['Copper'],\n",
              "       ['Copper'],\n",
              "       ['Copper'],\n",
              "       ['Copper'],\n",
              "       ['Copper'],\n",
              "       ['Copper'],\n",
              "       ['Copper'],\n",
              "       ['Copper'],\n",
              "       ['Copper'],\n",
              "       ['Copper'],\n",
              "       ['Copper'],\n",
              "       ['Copper'],\n",
              "       ['Copper'],\n",
              "       ['Copper'],\n",
              "       ['Copper'],\n",
              "       ['Copper'],\n",
              "       ['Copper'],\n",
              "       ['Copper'],\n",
              "       ['Copper'],\n",
              "       ['Copper'],\n",
              "       ['Copper'],\n",
              "       ['Copper'],\n",
              "       ['Copper'],\n",
              "       ['Copper'],\n",
              "       ['Copper'],\n",
              "       ['Copper'],\n",
              "       ['Copper'],\n",
              "       ['Copper'],\n",
              "       ['Copper'],\n",
              "       ['Copper'],\n",
              "       ['Copper'],\n",
              "       ['Copper'],\n",
              "       ['Copper'],\n",
              "       ['Copper'],\n",
              "       ['Copper'],\n",
              "       ['Copper'],\n",
              "       ['Copper'],\n",
              "       ['Copper'],\n",
              "       ['Copper'],\n",
              "       ['Copper'],\n",
              "       ['Copper'],\n",
              "       ['Copper'],\n",
              "       ['Copper'],\n",
              "       ['Copper'],\n",
              "       ['Copper'],\n",
              "       ['Copper'],\n",
              "       ['Copper'],\n",
              "       ['Copper'],\n",
              "       ['Copper'],\n",
              "       ['Copper'],\n",
              "       ['Copper'],\n",
              "       ['Copper'],\n",
              "       ['Alloy'],\n",
              "       ['Copper'],\n",
              "       ['Copper'],\n",
              "       ['Copper'],\n",
              "       ['Copper'],\n",
              "       ['Copper'],\n",
              "       ['Copper'],\n",
              "       ['Copper'],\n",
              "       ['Copper'],\n",
              "       ['Copper'],\n",
              "       ['Copper'],\n",
              "       ['Copper'],\n",
              "       ['Copper'],\n",
              "       ['Copper'],\n",
              "       ['Copper'],\n",
              "       ['Copper'],\n",
              "       ['Copper'],\n",
              "       ['Copper'],\n",
              "       ['Copper'],\n",
              "       ['Copper'],\n",
              "       ['Copper'],\n",
              "       ['Copper'],\n",
              "       ['Copper'],\n",
              "       ['Copper'],\n",
              "       ['Copper'],\n",
              "       ['Copper'],\n",
              "       ['Copper'],\n",
              "       ['Copper'],\n",
              "       ['Copper'],\n",
              "       ['Copper'],\n",
              "       ['Copper'],\n",
              "       ['Copper'],\n",
              "       ['Copper'],\n",
              "       ['Copper'],\n",
              "       ['Copper'],\n",
              "       ['Copper'],\n",
              "       ['Alloy'],\n",
              "       ['Copper'],\n",
              "       ['Copper'],\n",
              "       ['Copper'],\n",
              "       ['Copper'],\n",
              "       ['Copper'],\n",
              "       ['Copper'],\n",
              "       ['Copper'],\n",
              "       ['Copper'],\n",
              "       ['Copper'],\n",
              "       ['Copper'],\n",
              "       ['Copper'],\n",
              "       ['Copper'],\n",
              "       ['Copper'],\n",
              "       ['Copper'],\n",
              "       ['Copper'],\n",
              "       ['Copper'],\n",
              "       ['Copper'],\n",
              "       ['Copper'],\n",
              "       ['Copper'],\n",
              "       ['Copper'],\n",
              "       ['Copper'],\n",
              "       ['Copper'],\n",
              "       ['Copper'],\n",
              "       ['Copper'],\n",
              "       ['Copper'],\n",
              "       ['Copper'],\n",
              "       ['Copper'],\n",
              "       ['Copper'],\n",
              "       ['Copper'],\n",
              "       ['Copper'],\n",
              "       ['Copper'],\n",
              "       ['Copper'],\n",
              "       ['Copper'],\n",
              "       ['Copper'],\n",
              "       ['Copper'],\n",
              "       ['Copper'],\n",
              "       ['Copper'],\n",
              "       ['Copper'],\n",
              "       ['Copper'],\n",
              "       ['Copper'],\n",
              "       ['Copper'],\n",
              "       ['Copper'],\n",
              "       ['Copper'],\n",
              "       ['Copper'],\n",
              "       ['Copper'],\n",
              "       ['Copper']], dtype=object)"
            ]
          },
          "metadata": {},
          "execution_count": 37
        }
      ]
    },
    {
      "cell_type": "code",
      "source": [],
      "metadata": {
        "id": "XziGUVeVSbMY"
      },
      "execution_count": null,
      "outputs": []
    },
    {
      "cell_type": "markdown",
      "source": [
        "To process an image of an AC purchase bill and extract relevant information such as price, star rating, and customer"
      ],
      "metadata": {
        "id": "yXMeo3iBULkV"
      }
    },
    {
      "cell_type": "code",
      "source": [],
      "metadata": {
        "id": "b6lLP2kWVdgx"
      },
      "execution_count": null,
      "outputs": []
    },
    {
      "cell_type": "code",
      "source": [
        "import cv2\n",
        "#import pytesseract\n",
        "import pandas as pd\n",
        "import numpy as np\n",
        "import matplotlib.pyplot as plt\n",
        "import seaborn as sns\n",
        "from sklearn.linear_model import LinearRegression\n"
      ],
      "metadata": {
        "id": "4y95t328VhUo"
      },
      "execution_count": 43,
      "outputs": []
    },
    {
      "cell_type": "code",
      "source": [
        "def preprocess_image(image_path):\n",
        "    image = cv2.imread(image_path, cv2.IMREAD_COLOR)\n",
        "    gray = cv2.cvtColor(image, cv2.COLOR_BGR2GRAY)\n",
        "    gray = cv2.GaussianBlur(gray, (5, 5), 0)\n",
        "    _, binary = cv2.threshold(gray, 150, 255, cv2.THRESH_BINARY_INV)\n",
        "    return binary"
      ],
      "metadata": {
        "id": "W8Dc13VGW2tG"
      },
      "execution_count": 44,
      "outputs": []
    },
    {
      "cell_type": "code",
      "source": [
        "!apt-get install -y tesseract-ocr"
      ],
      "metadata": {
        "colab": {
          "base_uri": "https://localhost:8080/"
        },
        "id": "oPYHS9k0W5l0",
        "outputId": "28d95916-a58f-491c-f7ab-d9aed5dbf12f"
      },
      "execution_count": 45,
      "outputs": [
        {
          "output_type": "stream",
          "name": "stdout",
          "text": [
            "Reading package lists... Done\n",
            "Building dependency tree... Done\n",
            "Reading state information... Done\n",
            "The following additional packages will be installed:\n",
            "  tesseract-ocr-eng tesseract-ocr-osd\n",
            "The following NEW packages will be installed:\n",
            "  tesseract-ocr tesseract-ocr-eng tesseract-ocr-osd\n",
            "0 upgraded, 3 newly installed, 0 to remove and 45 not upgraded.\n",
            "Need to get 4,816 kB of archives.\n",
            "After this operation, 15.6 MB of additional disk space will be used.\n",
            "Get:1 http://archive.ubuntu.com/ubuntu jammy/universe amd64 tesseract-ocr-eng all 1:4.00~git30-7274cfa-1.1 [1,591 kB]\n",
            "Get:2 http://archive.ubuntu.com/ubuntu jammy/universe amd64 tesseract-ocr-osd all 1:4.00~git30-7274cfa-1.1 [2,990 kB]\n",
            "Get:3 http://archive.ubuntu.com/ubuntu jammy/universe amd64 tesseract-ocr amd64 4.1.1-2.1build1 [236 kB]\n",
            "Fetched 4,816 kB in 3s (1,738 kB/s)\n",
            "Selecting previously unselected package tesseract-ocr-eng.\n",
            "(Reading database ... 123576 files and directories currently installed.)\n",
            "Preparing to unpack .../tesseract-ocr-eng_1%3a4.00~git30-7274cfa-1.1_all.deb ...\n",
            "Unpacking tesseract-ocr-eng (1:4.00~git30-7274cfa-1.1) ...\n",
            "Selecting previously unselected package tesseract-ocr-osd.\n",
            "Preparing to unpack .../tesseract-ocr-osd_1%3a4.00~git30-7274cfa-1.1_all.deb ...\n",
            "Unpacking tesseract-ocr-osd (1:4.00~git30-7274cfa-1.1) ...\n",
            "Selecting previously unselected package tesseract-ocr.\n",
            "Preparing to unpack .../tesseract-ocr_4.1.1-2.1build1_amd64.deb ...\n",
            "Unpacking tesseract-ocr (4.1.1-2.1build1) ...\n",
            "Setting up tesseract-ocr-eng (1:4.00~git30-7274cfa-1.1) ...\n",
            "Setting up tesseract-ocr-osd (1:4.00~git30-7274cfa-1.1) ...\n",
            "Setting up tesseract-ocr (4.1.1-2.1build1) ...\n",
            "Processing triggers for man-db (2.10.2-1) ...\n"
          ]
        }
      ]
    },
    {
      "cell_type": "code",
      "source": [
        "!apt-get install -y libtesseract-dev"
      ],
      "metadata": {
        "colab": {
          "base_uri": "https://localhost:8080/"
        },
        "id": "33pQ3jSnW9ED",
        "outputId": "d0a4e96b-a609-4647-e9e2-bde66912095a"
      },
      "execution_count": 46,
      "outputs": [
        {
          "output_type": "stream",
          "name": "stdout",
          "text": [
            "Reading package lists... Done\n",
            "Building dependency tree... Done\n",
            "Reading state information... Done\n",
            "The following additional packages will be installed:\n",
            "  libarchive-dev libleptonica-dev\n",
            "The following NEW packages will be installed:\n",
            "  libarchive-dev libleptonica-dev libtesseract-dev\n",
            "0 upgraded, 3 newly installed, 0 to remove and 45 not upgraded.\n",
            "Need to get 3,744 kB of archives.\n",
            "After this operation, 16.0 MB of additional disk space will be used.\n",
            "Get:1 http://archive.ubuntu.com/ubuntu jammy-updates/main amd64 libarchive-dev amd64 3.6.0-1ubuntu1.1 [582 kB]\n",
            "Get:2 http://archive.ubuntu.com/ubuntu jammy/universe amd64 libleptonica-dev amd64 1.82.0-3build1 [1,562 kB]\n",
            "Get:3 http://archive.ubuntu.com/ubuntu jammy/universe amd64 libtesseract-dev amd64 4.1.1-2.1build1 [1,600 kB]\n",
            "Fetched 3,744 kB in 2s (1,522 kB/s)\n",
            "Selecting previously unselected package libarchive-dev:amd64.\n",
            "(Reading database ... 123623 files and directories currently installed.)\n",
            "Preparing to unpack .../libarchive-dev_3.6.0-1ubuntu1.1_amd64.deb ...\n",
            "Unpacking libarchive-dev:amd64 (3.6.0-1ubuntu1.1) ...\n",
            "Selecting previously unselected package libleptonica-dev.\n",
            "Preparing to unpack .../libleptonica-dev_1.82.0-3build1_amd64.deb ...\n",
            "Unpacking libleptonica-dev (1.82.0-3build1) ...\n",
            "Selecting previously unselected package libtesseract-dev:amd64.\n",
            "Preparing to unpack .../libtesseract-dev_4.1.1-2.1build1_amd64.deb ...\n",
            "Unpacking libtesseract-dev:amd64 (4.1.1-2.1build1) ...\n",
            "Setting up libleptonica-dev (1.82.0-3build1) ...\n",
            "Setting up libarchive-dev:amd64 (3.6.0-1ubuntu1.1) ...\n",
            "Setting up libtesseract-dev:amd64 (4.1.1-2.1build1) ...\n",
            "Processing triggers for man-db (2.10.2-1) ...\n"
          ]
        }
      ]
    },
    {
      "cell_type": "code",
      "source": [
        "!pip install pytesseract\n"
      ],
      "metadata": {
        "colab": {
          "base_uri": "https://localhost:8080/"
        },
        "id": "tAzopjdQXD2j",
        "outputId": "3d41ccc8-106d-4a16-8738-e2841e7c1c58"
      },
      "execution_count": 47,
      "outputs": [
        {
          "output_type": "stream",
          "name": "stdout",
          "text": [
            "Collecting pytesseract\n",
            "  Downloading pytesseract-0.3.10-py3-none-any.whl (14 kB)\n",
            "Requirement already satisfied: packaging>=21.3 in /usr/local/lib/python3.10/dist-packages (from pytesseract) (24.1)\n",
            "Requirement already satisfied: Pillow>=8.0.0 in /usr/local/lib/python3.10/dist-packages (from pytesseract) (9.4.0)\n",
            "Installing collected packages: pytesseract\n",
            "Successfully installed pytesseract-0.3.10\n"
          ]
        }
      ]
    },
    {
      "cell_type": "code",
      "source": [
        "import pytesseract\n",
        "from PIL import Image"
      ],
      "metadata": {
        "id": "x8u0UM7pXLkc"
      },
      "execution_count": 48,
      "outputs": []
    },
    {
      "cell_type": "code",
      "source": [
        "import cv2\n",
        "\n",
        "def preprocess_image(image_path):\n",
        "    image = cv2.imread(image_path, cv2.IMREAD_GRAYSCALE)\n",
        "    image = cv2.resize(image, (128, 128))\n",
        "    image = image / 255.0\n",
        "    return image\n",
        "\n",
        "def extract_information(image_path):\n",
        "    image = preprocess_image(image_path)\n",
        "    extracted_text = pytesseract.image_to_string(Image.open(image_path))\n",
        "    return extracted_text"
      ],
      "metadata": {
        "id": "03KSBiKTXSXB"
      },
      "execution_count": 49,
      "outputs": []
    },
    {
      "cell_type": "code",
      "source": [
        "pytesseract.pytesseract.tesseract_cmd = r'C:\\Program Files\\Tesseract-OCR\\tesseract.exe'\n",
        "\n",
        "def extract_text(image):\n",
        "    text = pytesseract.image_to_string(image)\n",
        "    return text"
      ],
      "metadata": {
        "id": "_XKqbBdmXta4"
      },
      "execution_count": 50,
      "outputs": []
    },
    {
      "cell_type": "code",
      "source": [
        "def parse_text(text):\n",
        "    lines = text.split('\\n')\n",
        "    data = {'Price': [], 'STAR': [], 'Ratings': []}\n",
        "\n",
        "    for line in lines:\n",
        "        if 'Price' in line:\n",
        "            data['Price'].append(line.split(':')[1].strip())\n",
        "        elif 'STAR' in line:\n",
        "            data['STAR'].append(line.split(':')[1].strip())\n",
        "        elif 'Ratings' in line:\n",
        "            price_str = line.split(':')[1].strip().replace('$', '').replace(',', '')\n",
        "            data['Ratings'].append(float(price_str))\n",
        "\n",
        "    return pd.DataFrame(data)"
      ],
      "metadata": {
        "id": "ZmbPUx88YoCy"
      },
      "execution_count": 52,
      "outputs": []
    },
    {
      "cell_type": "code",
      "source": [
        "def prepare_data(df):\n",
        "    label_encoder = LabelEncoder()\n",
        "    df['quality'] = label_encoder.fit_transform(df['quality'])\n",
        "    df['brand'] = label_encoder.fit_transform(df['brand'])\n",
        "\n",
        "    X = df[['quality', 'brand']].values\n",
        "    y = df['price'].values\n",
        "\n",
        "    X_train, X_test, y_train, y_test = train_test_split(X, y, test_size=0.2, random_state=42)\n",
        "\n",
        "    X_train = np.expand_dims(X_train, axis=2)\n",
        "    X_test = np.expand_dims(X_test, axis=2)\n",
        "\n",
        "    return X_train, X_test, y_train, y_test"
      ],
      "metadata": {
        "id": "s-lLWXaDY4wf"
      },
      "execution_count": 53,
      "outputs": []
    },
    {
      "cell_type": "code",
      "source": [
        "def build_model():\n",
        "    model = Sequential([\n",
        "        Conv2D(32, (3, 3), activation='relu', input_shape=(2, 1, 1)),\n",
        "        MaxPooling2D((2, 2)),\n",
        "        Flatten(),\n",
        "        Dense(64, activation='relu'),\n",
        "        Dense(1)\n",
        "    ])\n",
        "\n",
        "    model.compile(optimizer='adam', loss='mse')\n",
        "    return model"
      ],
      "metadata": {
        "id": "TeBVtT1-ZaBB"
      },
      "execution_count": 54,
      "outputs": []
    },
    {
      "cell_type": "code",
      "source": [
        "def train_and_evaluate(X_train, X_test, y_train, y_test):\n",
        "    model = build_model()\n",
        "    model.fit(X_train, y_train, epochs=50, validation_split=0.2)\n",
        "\n",
        "    loss = model.evaluate(X_test, y_test)\n",
        "    print(f'Test Loss: {loss}')\n",
        "\n",
        "    y_pred = model.predict(X_test)\n",
        "\n",
        "    plt.scatter(y_test, y_pred)\n",
        "    plt.xlabel('True Values')\n",
        "    plt.ylabel('Predictions')\n",
        "    plt.show()\n",
        "\n",
        "    return model"
      ],
      "metadata": {
        "id": "4yeqzu89Zdmo"
      },
      "execution_count": 55,
      "outputs": []
    },
    {
      "cell_type": "code",
      "source": [
        "!pip install flask tensorflow opencv-python pytesseract\n",
        "\n",
        "\n"
      ],
      "metadata": {
        "colab": {
          "base_uri": "https://localhost:8080/"
        },
        "id": "sOuwwsh_bKY8",
        "outputId": "71bb1fa5-c611-43c8-82fd-a7ed1287f2c5"
      },
      "execution_count": 60,
      "outputs": [
        {
          "output_type": "stream",
          "name": "stdout",
          "text": [
            "Requirement already satisfied: flask in /usr/local/lib/python3.10/dist-packages (2.2.5)\n",
            "Requirement already satisfied: tensorflow in /usr/local/lib/python3.10/dist-packages (2.15.0)\n",
            "Requirement already satisfied: opencv-python in /usr/local/lib/python3.10/dist-packages (4.8.0.76)\n",
            "Requirement already satisfied: pytesseract in /usr/local/lib/python3.10/dist-packages (0.3.10)\n",
            "Requirement already satisfied: Werkzeug>=2.2.2 in /usr/local/lib/python3.10/dist-packages (from flask) (3.0.3)\n",
            "Requirement already satisfied: Jinja2>=3.0 in /usr/local/lib/python3.10/dist-packages (from flask) (3.1.4)\n",
            "Requirement already satisfied: itsdangerous>=2.0 in /usr/local/lib/python3.10/dist-packages (from flask) (2.2.0)\n",
            "Requirement already satisfied: click>=8.0 in /usr/local/lib/python3.10/dist-packages (from flask) (8.1.7)\n",
            "Requirement already satisfied: absl-py>=1.0.0 in /usr/local/lib/python3.10/dist-packages (from tensorflow) (1.4.0)\n",
            "Requirement already satisfied: astunparse>=1.6.0 in /usr/local/lib/python3.10/dist-packages (from tensorflow) (1.6.3)\n",
            "Requirement already satisfied: flatbuffers>=23.5.26 in /usr/local/lib/python3.10/dist-packages (from tensorflow) (24.3.25)\n",
            "Requirement already satisfied: gast!=0.5.0,!=0.5.1,!=0.5.2,>=0.2.1 in /usr/local/lib/python3.10/dist-packages (from tensorflow) (0.6.0)\n",
            "Requirement already satisfied: google-pasta>=0.1.1 in /usr/local/lib/python3.10/dist-packages (from tensorflow) (0.2.0)\n",
            "Requirement already satisfied: h5py>=2.9.0 in /usr/local/lib/python3.10/dist-packages (from tensorflow) (3.9.0)\n",
            "Requirement already satisfied: libclang>=13.0.0 in /usr/local/lib/python3.10/dist-packages (from tensorflow) (18.1.1)\n",
            "Requirement already satisfied: ml-dtypes~=0.2.0 in /usr/local/lib/python3.10/dist-packages (from tensorflow) (0.2.0)\n",
            "Requirement already satisfied: numpy<2.0.0,>=1.23.5 in /usr/local/lib/python3.10/dist-packages (from tensorflow) (1.25.2)\n",
            "Requirement already satisfied: opt-einsum>=2.3.2 in /usr/local/lib/python3.10/dist-packages (from tensorflow) (3.3.0)\n",
            "Requirement already satisfied: packaging in /usr/local/lib/python3.10/dist-packages (from tensorflow) (24.1)\n",
            "Requirement already satisfied: protobuf!=4.21.0,!=4.21.1,!=4.21.2,!=4.21.3,!=4.21.4,!=4.21.5,<5.0.0dev,>=3.20.3 in /usr/local/lib/python3.10/dist-packages (from tensorflow) (3.20.3)\n",
            "Requirement already satisfied: setuptools in /usr/local/lib/python3.10/dist-packages (from tensorflow) (67.7.2)\n",
            "Requirement already satisfied: six>=1.12.0 in /usr/local/lib/python3.10/dist-packages (from tensorflow) (1.16.0)\n",
            "Requirement already satisfied: termcolor>=1.1.0 in /usr/local/lib/python3.10/dist-packages (from tensorflow) (2.4.0)\n",
            "Requirement already satisfied: typing-extensions>=3.6.6 in /usr/local/lib/python3.10/dist-packages (from tensorflow) (4.12.2)\n",
            "Requirement already satisfied: wrapt<1.15,>=1.11.0 in /usr/local/lib/python3.10/dist-packages (from tensorflow) (1.14.1)\n",
            "Requirement already satisfied: tensorflow-io-gcs-filesystem>=0.23.1 in /usr/local/lib/python3.10/dist-packages (from tensorflow) (0.37.1)\n",
            "Requirement already satisfied: grpcio<2.0,>=1.24.3 in /usr/local/lib/python3.10/dist-packages (from tensorflow) (1.64.1)\n",
            "Requirement already satisfied: tensorboard<2.16,>=2.15 in /usr/local/lib/python3.10/dist-packages (from tensorflow) (2.15.2)\n",
            "Requirement already satisfied: tensorflow-estimator<2.16,>=2.15.0 in /usr/local/lib/python3.10/dist-packages (from tensorflow) (2.15.0)\n",
            "Requirement already satisfied: keras<2.16,>=2.15.0 in /usr/local/lib/python3.10/dist-packages (from tensorflow) (2.15.0)\n",
            "Requirement already satisfied: Pillow>=8.0.0 in /usr/local/lib/python3.10/dist-packages (from pytesseract) (9.4.0)\n",
            "Requirement already satisfied: wheel<1.0,>=0.23.0 in /usr/local/lib/python3.10/dist-packages (from astunparse>=1.6.0->tensorflow) (0.43.0)\n",
            "Requirement already satisfied: MarkupSafe>=2.0 in /usr/local/lib/python3.10/dist-packages (from Jinja2>=3.0->flask) (2.1.5)\n",
            "Requirement already satisfied: google-auth<3,>=1.6.3 in /usr/local/lib/python3.10/dist-packages (from tensorboard<2.16,>=2.15->tensorflow) (2.27.0)\n",
            "Requirement already satisfied: google-auth-oauthlib<2,>=0.5 in /usr/local/lib/python3.10/dist-packages (from tensorboard<2.16,>=2.15->tensorflow) (1.2.1)\n",
            "Requirement already satisfied: markdown>=2.6.8 in /usr/local/lib/python3.10/dist-packages (from tensorboard<2.16,>=2.15->tensorflow) (3.6)\n",
            "Requirement already satisfied: requests<3,>=2.21.0 in /usr/local/lib/python3.10/dist-packages (from tensorboard<2.16,>=2.15->tensorflow) (2.31.0)\n",
            "Requirement already satisfied: tensorboard-data-server<0.8.0,>=0.7.0 in /usr/local/lib/python3.10/dist-packages (from tensorboard<2.16,>=2.15->tensorflow) (0.7.2)\n",
            "Requirement already satisfied: cachetools<6.0,>=2.0.0 in /usr/local/lib/python3.10/dist-packages (from google-auth<3,>=1.6.3->tensorboard<2.16,>=2.15->tensorflow) (5.3.3)\n",
            "Requirement already satisfied: pyasn1-modules>=0.2.1 in /usr/local/lib/python3.10/dist-packages (from google-auth<3,>=1.6.3->tensorboard<2.16,>=2.15->tensorflow) (0.4.0)\n",
            "Requirement already satisfied: rsa<5,>=3.1.4 in /usr/local/lib/python3.10/dist-packages (from google-auth<3,>=1.6.3->tensorboard<2.16,>=2.15->tensorflow) (4.9)\n",
            "Requirement already satisfied: requests-oauthlib>=0.7.0 in /usr/local/lib/python3.10/dist-packages (from google-auth-oauthlib<2,>=0.5->tensorboard<2.16,>=2.15->tensorflow) (1.3.1)\n",
            "Requirement already satisfied: charset-normalizer<4,>=2 in /usr/local/lib/python3.10/dist-packages (from requests<3,>=2.21.0->tensorboard<2.16,>=2.15->tensorflow) (3.3.2)\n",
            "Requirement already satisfied: idna<4,>=2.5 in /usr/local/lib/python3.10/dist-packages (from requests<3,>=2.21.0->tensorboard<2.16,>=2.15->tensorflow) (3.7)\n",
            "Requirement already satisfied: urllib3<3,>=1.21.1 in /usr/local/lib/python3.10/dist-packages (from requests<3,>=2.21.0->tensorboard<2.16,>=2.15->tensorflow) (2.0.7)\n",
            "Requirement already satisfied: certifi>=2017.4.17 in /usr/local/lib/python3.10/dist-packages (from requests<3,>=2.21.0->tensorboard<2.16,>=2.15->tensorflow) (2024.7.4)\n",
            "Requirement already satisfied: pyasn1<0.7.0,>=0.4.6 in /usr/local/lib/python3.10/dist-packages (from pyasn1-modules>=0.2.1->google-auth<3,>=1.6.3->tensorboard<2.16,>=2.15->tensorflow) (0.6.0)\n",
            "Requirement already satisfied: oauthlib>=3.0.0 in /usr/local/lib/python3.10/dist-packages (from requests-oauthlib>=0.7.0->google-auth-oauthlib<2,>=0.5->tensorboard<2.16,>=2.15->tensorflow) (3.2.2)\n"
          ]
        }
      ]
    },
    {
      "cell_type": "code",
      "source": [
        "import tensorflow as tf\n",
        "from tensorflow.keras.models import Sequential\n",
        "from tensorflow.keras.layers import Conv2D, MaxPooling2D, Flatten, Dense\n",
        "\n",
        "def build_model():\n",
        "    model = Sequential([\n",
        "        Conv2D(32, (3, 3), activation='relu', input_shape=(128, 128, 1)),\n",
        "        MaxPooling2D((2, 2)),\n",
        "        Conv2D(64, (3, 3), activation='relu'),\n",
        "        MaxPooling2D((2, 2)),\n",
        "        Flatten(),\n",
        "        Dense(128, activation='relu'),\n",
        "        Dense(10, activation='softmax')  # Adjust based on your actual use case\n",
        "    ])\n",
        "    model.compile(optimizer='adam', loss='categorical_crossentropy', metrics=['accuracy'])\n",
        "    return model\n",
        "\n",
        "def preprocess_image(image_path):\n",
        "    import cv2\n",
        "    image = cv2.imread(image_path, cv2.IMREAD_GRAYSCALE)\n",
        "    image = cv2.resize(image, (128, 128))\n",
        "    image = image / 255.0\n",
        "    return image.reshape(1, 128, 128, 1)\n",
        "\n",
        "def predict(model, image_path):\n",
        "    image = preprocess_image(image_path)\n",
        "    prediction = model.predict(image)\n",
        "    return prediction"
      ],
      "metadata": {
        "id": "g70HuM_dZhkl"
      },
      "execution_count": 61,
      "outputs": []
    },
    {
      "cell_type": "code",
      "source": [
        "!pip install model"
      ],
      "metadata": {
        "colab": {
          "base_uri": "https://localhost:8080/"
        },
        "id": "uDKQCx4WaflR",
        "outputId": "854f9e7f-e7a6-4313-ca6d-110659a30811"
      },
      "execution_count": 63,
      "outputs": [
        {
          "output_type": "stream",
          "name": "stdout",
          "text": [
            "\u001b[31mERROR: Could not find a version that satisfies the requirement model (from versions: none)\u001b[0m\u001b[31m\n",
            "\u001b[0m\u001b[31mERROR: No matching distribution found for model\u001b[0m\u001b[31m\n",
            "\u001b[0m"
          ]
        }
      ]
    },
    {
      "cell_type": "code",
      "source": [
        "%mkdir templates -p\n",
        "\n",
        "\n"
      ],
      "metadata": {
        "id": "IA24-_H8ckyB"
      },
      "execution_count": 68,
      "outputs": []
    },
    {
      "cell_type": "code",
      "source": [
        "%%writefile templates/index.html\n",
        "<!-- templates/index.html -->\n",
        "\n",
        "<!doctype html>\n",
        "<html lang=\"en\">\n",
        "<head>\n",
        "    <meta charset=\"UTF-8\">\n",
        "    <meta name=\"viewport\" content=\"width=device-width, initial-scale=1.0\">\n",
        "    <title>Upload Electricity Bill</title>\n",
        "</head>\n",
        "<body>\n",
        "    <h1>Upload Electricity Bill</h1>\n",
        "    <form action=\"/upload\" method=\"post\" enctype=\"multipart/form-data\">\n",
        "        <input type=\"file\" name=\"file\" accept=\"image/*\">\n",
        "        <input type=\"submit\" value=\"Upload\">\n",
        "    </form>\n",
        "</body>\n",
        "</html>\n"
      ],
      "metadata": {
        "colab": {
          "base_uri": "https://localhost:8080/"
        },
        "id": "veYWNhHTctTP",
        "outputId": "99115b7a-0831-407e-a051-299ce175ef7d"
      },
      "execution_count": 69,
      "outputs": [
        {
          "output_type": "stream",
          "name": "stdout",
          "text": [
            "Writing templates/index.html\n"
          ]
        }
      ]
    },
    {
      "cell_type": "code",
      "source": [
        "%%writefile templates/index.html\n",
        "<!-- templates/result.html -->\n",
        "\n",
        "<!doctype html>\n",
        "<html lang=\"en\">\n",
        "<head>\n",
        "    <meta charset=\"UTF-8\">\n",
        "    <meta name=\"viewport\" content=\"width=device-width, initial-scale=1.0\">\n",
        "    <title>Result</title>\n",
        "</head>\n",
        "<body>\n",
        "    <h1>Prediction and Extracted Text</h1>\n",
        "    <p><strong>Prediction:</strong> {{ prediction }}</p>\n",
        "    <p><strong>Extracted Text:</strong> {{ extracted_text }}</p>\n",
        "    <a href=\"/\">Upload another image</a>\n",
        "</body>\n",
        "</html>"
      ],
      "metadata": {
        "colab": {
          "base_uri": "https://localhost:8080/"
        },
        "id": "gZxFnq0QdCSC",
        "outputId": "1d40293b-9de8-451c-d65c-498b29534139"
      },
      "execution_count": 70,
      "outputs": [
        {
          "output_type": "stream",
          "name": "stdout",
          "text": [
            "Overwriting templates/index.html\n"
          ]
        }
      ]
    },
    {
      "cell_type": "code",
      "source": [
        "import os\n",
        "from flask import Flask, request, render_template, redirect, url_for\n",
        "from werkzeug.utils import secure_filename\n",
        "#from model import build_model, predict\n",
        "#from models.model import build_model, predict\n",
        "\n",
        "import pytesseract\n",
        "\n",
        "# Set up Flask app\n",
        "app = Flask(__name__)\n",
        "app.config['UPLOAD_FOLDER'] = 'uploads'\n",
        "app.config['ALLOWED_EXTENSIONS'] = {'png', 'jpg', 'jpeg'}\n",
        "\n",
        "# Load the model\n",
        "model = build_model()\n",
        "\n",
        "def allowed_file(filename):\n",
        "    return '.' in filename and \\\n",
        "           filename.rsplit('.', 1)[1].lower() in app.config['ALLOWED_EXTENSIONS']\n",
        "\n",
        "@app.route('/')\n",
        "def index():\n",
        "    return render_template('index.html')\n",
        "\n",
        "@app.route('/upload', methods=['POST'])\n",
        "def upload_file():\n",
        "    if 'file' not in request.files:\n",
        "        return redirect(request.url)\n",
        "    file = request.files['file']\n",
        "    if file.filename == '':\n",
        "        return redirect(request.url)\n",
        "    if file and allowed_file(file.filename):\n",
        "        filename = secure_filename(file.filename)\n",
        "        filepath = os.path.join(app.config['UPLOAD_FOLDER'], filename)\n",
        "        file.save(filepath)\n",
        "        prediction = predict(model, filepath)\n",
        "        extracted_text = pytesseract.image_to_string(filepath)\n",
        "        return render_template('result.html', prediction=prediction, extracted_text=extracted_text)\n",
        "    return redirect(request.url)\n",
        "\n",
        "if __name__ == '__main__':\n",
        "    app.run(debug=True)\n"
      ],
      "metadata": {
        "colab": {
          "base_uri": "https://localhost:8080/"
        },
        "id": "U7CiT6mEdFyC",
        "outputId": "4ffca735-63b5-47c5-ad31-e38b8c409b0b"
      },
      "execution_count": null,
      "outputs": [
        {
          "output_type": "stream",
          "name": "stdout",
          "text": [
            " * Serving Flask app '__main__'\n",
            " * Debug mode: on\n"
          ]
        },
        {
          "output_type": "stream",
          "name": "stderr",
          "text": [
            "INFO:werkzeug:\u001b[31m\u001b[1mWARNING: This is a development server. Do not use it in a production deployment. Use a production WSGI server instead.\u001b[0m\n",
            " * Running on http://127.0.0.1:5000\n",
            "INFO:werkzeug:\u001b[33mPress CTRL+C to quit\u001b[0m\n",
            "INFO:werkzeug: * Restarting with stat\n"
          ]
        }
      ]
    },
    {
      "cell_type": "code",
      "source": [],
      "metadata": {
        "id": "fiuatZLFdKga"
      },
      "execution_count": null,
      "outputs": []
    }
  ]
}